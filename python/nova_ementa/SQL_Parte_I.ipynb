{
 "cells": [
  {
   "cell_type": "markdown",
   "metadata": {
    "id": "52ISQUU6mTWe"
   },
   "source": [
    "# SQL - Structured Query Language"
   ]
  },
  {
   "cell_type": "markdown",
   "metadata": {
    "id": "awvXs3J7mg3f"
   },
   "source": [
    "## O que é SQL?"
   ]
  },
  {
   "cell_type": "markdown",
   "metadata": {
    "id": "ScU8kKedr7lT"
   },
   "source": [
    "> _Structured Query Language_ (__SQL__) é a linguagem padrão usada para escrever consultas em um banco de dados. Foi aprovado pela ISO (_International Standard Organization_) e ANSI (_American National Standards Institute_)\n",
    "\n",
    "Como é de conhecimento geral, SQL é uma linguagem de consulta estruturada e declarativa utilizada para acessarmos informações num __banco de dados relacionais__, popularmente ou carinhosamente chamada de _linguagem de banco de dados relacionais_.\n",
    "\n",
    "> _**Linguagem de Consulta Estruturada**_\n",
    "\n",
    "Assim, podemos realizar certas operações em __banco de dados__ existentes ou criar um __banco de dados__ e suas _tabelas_. \n",
    "\n",
    "Os comandos SQL são agrupados em 5 categorias, como a seguir:\n",
    "\n",
    "* __DDL__ : Data Definition Language\n",
    "* __DML__ : Data Manipulation Language\n",
    "* __TCL__ : Transaction Control Language\n",
    "* __DQL__ : Data Query Language\n",
    "* __DCL__ : Data Control Language\n",
    "\n",
    "Veremos o detalhamento de cada uma destas categorias na seção abaxio."
   ]
  },
  {
   "cell_type": "markdown",
   "metadata": {
    "id": "R9X2ukZ3plKs"
   },
   "source": [
    "## As categorias do SQL"
   ]
  },
  {
   "cell_type": "markdown",
   "metadata": {
    "id": "LuKoOc1vpx3v"
   },
   "source": [
    "![comandos_sql.png](data:image/png;base64,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)"
   ]
  },
  {
   "cell_type": "markdown",
   "metadata": {
    "id": "cIsPXtOTw_yW"
   },
   "source": [
    "### DDL"
   ]
  },
  {
   "cell_type": "markdown",
   "metadata": {
    "id": "wqyg_AcKxEZw"
   },
   "source": [
    "#### Data Definition Language"
   ]
  },
  {
   "cell_type": "markdown",
   "metadata": {
    "id": "vt031cKHhD8s"
   },
   "source": [
    "Consiste em comandos SQL que são usados para definirmos o _schema_ (esquema) do banco de dados.\n",
    "\n",
    "Simplesmente lida com as descrições do esquema do banco de dados, sendo usada para criar e modificar a estrutura dos objetos do banco de dados.\n",
    "\n",
    "Assim, __DDL__ é um conjunto de comandos SQL para criar, modificar e apagar estruturas de banco de dados, mas não os dados. Estes comandos são normalmente não são usados por um usuário geral, que deve acessar o banco de dados por meio de um aplicativo (cliente de banco de dados).\n",
    "\n",
    "Lista dos comandos:\n",
    "\n",
    "* __CREATE__ : usado para criar banco de dados e seus objetos (tabelas, index, funções, visões, _store procedure_ e _triggers_)\n",
    "\n",
    "* __DROP__ : usado para remover objetos do banco de dados\n",
    "\n",
    "* __ALTER__ : usado para alterar a estrutura do banco de dados\n",
    "\n",
    "* __TRUNCATE__ : usado para remover todos os registros de uma tabela, incluindo todos os espaços alocados para os registros\n",
    "\n",
    "* __COMMENT__ : usado para adicionar comentários ao dicionário de dados\n",
    "\n",
    "* __RENAME__ : usado para renomear objetos existentes no banco de dados"
   ]
  },
  {
   "cell_type": "markdown",
   "metadata": {
    "id": "mK93BxgDp9fC"
   },
   "source": [
    "#### CREATE"
   ]
  },
  {
   "cell_type": "markdown",
   "metadata": {
    "id": "9xI9Mtglp-4v"
   },
   "source": [
    "Existem duas instruções CREATE disponíveis no SQL:\n",
    "\n",
    "* CREATE DATABASE\n",
    "* CREATE TABLE\n",
    "\n",
    "<u>CREATE DATABASE</u>\n",
    "\n",
    "Um banco de dados é definido como um conjunto estruturado de dados. \n",
    "\n",
    "Assim, no SQL, o primeiro passo para armazenar os dados de maneira bem estruturada é criar um banco de dados. \n",
    "\n",
    "A instrução __CREATE DATABASE__ é usada para criar um novo banco de dados em SQL.\n",
    "\n",
    "__Sintaxe__\n",
    "\n",
    "```\n",
    "CREATE DATABASE [IF NOT EXISTS] nome_database;\n",
    "```\n",
    "\n",
    "__ATENÇÃO__ : nome_database é o nome do banco de dados que se deseja criar\n",
    "\n",
    "__EX__:\n",
    "\n",
    "```\n",
    "CREATE DATABASE IF NOT EXISTS INFINITY;\n",
    "\n",
    "USE INFINITY;\n",
    "```\n",
    "\n",
    "<u>CREATE TABLE</u>\n",
    "\n",
    "Aprendemos logo acima sobre a criação de bancos de dados. \n",
    "\n",
    "Agora, para armazenar os dados, precisamos de uma tabela para fazer isso. \n",
    "\n",
    "A instrução __CREATE TABLE__ é usada para criar uma tabela em SQL. \n",
    "\n",
    "Sabemos que uma tabela é composta por linhas e colunas. Então, ao criar tabelas, temos que fornecer todas as informações ao SQL sobre os nomes das colunas, tipo de dados a serem armazenados nas colunas, tamanho dos dados etc.\n",
    "\n",
    "__Sintaxe__\n",
    "\n",
    "```\n",
    "CREATE TABLE [IF NOT EXISTS] nome_tabela(\n",
    "  coluna1 tipo_dado(tamanho),\n",
    "  coluna2 tipo_dado(tamanho),\n",
    "  coluna3 tipo_dado(tamanho)\n",
    ");\n",
    "```\n",
    "__EX__:\n",
    "\n",
    "```\n",
    "CREATE TABLE IF NOT EXISTS STUDENTS(\n",
    "  REGISTRATION INT(5) NOT NULL PRIMARY KEY,\n",
    "  NAME VARCHAR(30),\n",
    "  EMAIL VARCHAR(50)\n",
    ");\n",
    "```\n",
    "\n",
    "Essa consulta criará uma tabela chamada STUDENTS. \n",
    "\n",
    "O campo REGISTRATION é do tipo __int__ e pode armazenar um número inteiro de tamanho 5. \n",
    "\n",
    "Já os campos NAME e EMAIL são do tipo __varchar__ e podem armazenar caracteres com tamanho máximo de 30 e 50 caracteres, respectivamente."
   ]
  },
  {
   "cell_type": "markdown",
   "metadata": {
    "id": "Nd-cmXObt1yn"
   },
   "source": [
    "#### DROP"
   ]
  },
  {
   "cell_type": "markdown",
   "metadata": {
    "id": "xAH6lYO2t3Hw"
   },
   "source": [
    "DROP é usado para excluir um banco de dados inteiro ou apenas uma tabela. \n",
    "\n",
    "A instrução DROP destrói os objetos como um banco de dados, tabela, índice ou visão.\n",
    "\n",
    "Uma instrução DROP em SQL remove um componente de um sistema de gerenciamento de banco de dados relacional (RDBMS).\n",
    "\n",
    "__Sintaxe__\n",
    "\n",
    "```\n",
    "DROP OBJECT [IF EXISTS] nome_objeto;\n",
    "```\n",
    "\n",
    "__EX__:\n",
    "\n",
    "```\n",
    "DROP TABLE [IF EXISTS] STUDENTS;\n",
    "\n",
    "DROP DATABASE [IF EXISTS] INFINITY;\n",
    "```"
   ]
  },
  {
   "cell_type": "markdown",
   "metadata": {
    "id": "ca4pa7xDx-VM"
   },
   "source": [
    "#### TRUNCATE"
   ]
  },
  {
   "cell_type": "markdown",
   "metadata": {
    "id": "FUdifU_jyAK1"
   },
   "source": [
    "A instrução TRUNCATE que é usada para remover os dados de uma tabela para fins de desalocação (vazia para reutilização). \n",
    "\n",
    "O resultado dessa operação remove rapidamente todos os dados de uma tabela, geralmente ignorando vários mecanismos de imposição de integridade. \n",
    "\n",
    "Foi introduzido oficialmente no SQL ANSI 2008.\n",
    "\n",
    "> A instrução mytable TRUNCATE TABLE é logicamente (embora não fisicamente) equivalente à instrução DELETE FROM mytable (sem uma cláusula WHERE).\n",
    "\n",
    "__Sintaxe__\n",
    "\n",
    "```\n",
    "TRUNCATE TABLE nome_tabela;\n",
    "```\n",
    "\n",
    "__EX__: \n",
    "\n",
    "```\n",
    "TRUNCATE TABLE STUDENTS;\n",
    "```\n",
    "\n",
    "__OBS__ : Após executar a consulta acima, a tabela STUDENTS será truncada, ou seja, os dados serão excluídos, mas a estrutura permanecerá na memória para operações posteriores\n",
    "\n",
    "__DROP vs TRUNCATE__\n",
    "\n",
    "* Truncar é normalmente ultrarrápido e é ideal para excluir dados de uma tabela temporária\n",
    "\n",
    "* Truncar preserva a estrutura da tabela para uso futuro, ao contrário de drop table onde a tabela é excluída com sua estrutura completa\n",
    "\n",
    "* A exclusão de tabela ou banco de dados usando a instrução DROP não pode ser revertida, portanto, deve ser usada com __sabedoria__"
   ]
  },
  {
   "cell_type": "markdown",
   "metadata": {
    "id": "ALn81Fkfz5vr"
   },
   "source": [
    "#### ALTER"
   ]
  },
  {
   "cell_type": "markdown",
   "metadata": {
    "id": "w0S7Tqrcz7LB"
   },
   "source": [
    "ALTER TABLE é usado para _adicionar_, _excluir_/_descartar_ ou _modificar_ colunas na tabela existente. \n",
    "\n",
    "Também é usado para adicionar e descartar várias restrições na tabela existente."
   ]
  },
  {
   "cell_type": "markdown",
   "metadata": {
    "id": "gwS2Uo9P0OLa"
   },
   "source": [
    "##### ADD"
   ]
  },
  {
   "cell_type": "markdown",
   "metadata": {
    "id": "hP0N7X_j0Ptz"
   },
   "source": [
    "ADD é usado para adicionar colunas à tabela existente. \n",
    "\n",
    "Às vezes precisamos realizar a adição de informações adicionais, nesse caso não precisamos criar todo o banco de dados novamente, o ADD vem em nosso socorro!\n",
    "\n",
    "__Sintaxe__\n",
    "\n",
    "```\n",
    "ALTER TABLE nome_tabela ADD (\n",
    "  nova_coluna1 tipo_dado(tamanho),\n",
    "  nova_coluna2 tipo_dado(tamanho),\n",
    ")\n",
    "```\n",
    "\n",
    "__EX__:\n",
    "\n",
    "```\n",
    "ALTER TABLE STUDENTS ADD(\n",
    "  PHONE VARCHAR(9),\n",
    "  COURSE VARCHAR(40)\n",
    ");\n",
    "```"
   ]
  },
  {
   "cell_type": "markdown",
   "metadata": {
    "id": "kaNME0zt1WXx"
   },
   "source": [
    "##### DROP"
   ]
  },
  {
   "cell_type": "markdown",
   "metadata": {
    "id": "v1dqNAUI1YYj"
   },
   "source": [
    "DROP COLUMN é usado para descartar colunas em uma tabela. Excluindo as colunas indesejadas da tabela.\n",
    "\n",
    "__Sintaxe__\n",
    "\n",
    "```\n",
    "ALTER TABLE nome_tabela DROP COLUMN nome_coluna;\n",
    "```\n",
    "\n",
    "__EX__:\n",
    "\n",
    "```\n",
    "ALTER TABLE STUDENTS DROP COLUMN COURSE;\n",
    "```"
   ]
  },
  {
   "cell_type": "markdown",
   "metadata": {
    "id": "k2UQYXM72IKN"
   },
   "source": [
    "##### MODIFY"
   ]
  },
  {
   "cell_type": "markdown",
   "metadata": {
    "id": "KnXas9jC2Kt_"
   },
   "source": [
    "Ele é usado para modificar as colunas existentes em uma tabela. Várias colunas também podem ser modificadas de uma só vez.\n",
    "\n",
    "__Sintaxe__\n",
    "\n",
    "```\n",
    "ALTER TABLE nome_tabela MODIFY nome_coluna tipo_coluna;\n",
    "```\n",
    "\n",
    "__EX__:\n",
    "\n",
    "```\n",
    "ALTER TABLE STUDENTS MODIFY PHONE VARCHAR(11);\n",
    "```"
   ]
  },
  {
   "cell_type": "markdown",
   "metadata": {
    "id": "Djqei62y3lHs"
   },
   "source": [
    "#### COMMENT"
   ]
  },
  {
   "cell_type": "markdown",
   "metadata": {
    "id": "jUNtGxTB3nfM"
   },
   "source": [
    "Como qualquer linguagem de programação, os comentários também importam muito no SQL. \n",
    "\n",
    "Veremos abaixo como escrever comentários em qualquer trecho de SQL.\n",
    "\n",
    "Os comentários podem ser escritos nestes três formatos:\n",
    "\n",
    "* Comentários de linha única\n",
    "\n",
    "* Comentários de várias linhas\n",
    "\n",
    "* Comentários de linha"
   ]
  },
  {
   "cell_type": "markdown",
   "metadata": {
    "id": "FlepPB3K4DFQ"
   },
   "source": [
    "##### Comentários de linha única"
   ]
  },
  {
   "cell_type": "markdown",
   "metadata": {
    "id": "A_w4BR1B4Gpg"
   },
   "source": [
    "São comentários que começam e terminam em uma única linha.\n",
    "\n",
    "A linha que começa com ‘–‘ é um comentário e não será executada.\n",
    "\n",
    "__Sintaxe__\n",
    "\n",
    "```\n",
    "-- este é um comentário de linha única\n",
    "-- outro exemplo de comentário\n",
    "SELECT * FROM STUDENTS;\n",
    "```"
   ]
  },
  {
   "cell_type": "markdown",
   "metadata": {
    "id": "edy1IDNK4sOJ"
   },
   "source": [
    "##### Comentários de várias linhas"
   ]
  },
  {
   "cell_type": "markdown",
   "metadata": {
    "id": "anNdUKL_4qgo"
   },
   "source": [
    "São comentários que começam em uma linha e terminam em outra linha. \n",
    "\n",
    "A linha que começa com '/*' é considerada como ponto de partida do comentário e termina quando '*/' é encontrado.\n",
    "\n",
    "__Sintaxe__\n",
    "\n",
    "```\n",
    "/* Este é um comentário\n",
    "de várias linhas */\n",
    "SELECT * FROM STUDENTS;\n",
    "```"
   ]
  },
  {
   "cell_type": "markdown",
   "metadata": {
    "id": "kGZWHJ6C5Rad"
   },
   "source": [
    "##### Comentários de linha"
   ]
  },
  {
   "cell_type": "markdown",
   "metadata": {
    "id": "4d73WaRe5WRf"
   },
   "source": [
    "São uma extensão de comentários de várias linhas, os comentários podem ser declarados entre as instruções e estão entre '/*' e '*/'.\n",
    "\n",
    "__Sintaxe__\n",
    "\n",
    "```\n",
    "SELECT * FROM STUDENTS; /* veremos sobre a instrução SELECT nas próximas seções */\n",
    "```"
   ]
  },
  {
   "cell_type": "markdown",
   "metadata": {
    "id": "NT0itvlB6Pgy"
   },
   "source": [
    "#### RENAME"
   ]
  },
  {
   "cell_type": "markdown",
   "metadata": {
    "id": "5dJ5VnKj6Rmk"
   },
   "source": [
    "Às vezes, podemos querer renomear nossa tabela para dar um nome mais relevante. \n",
    "\n",
    "Para isso, podemos usar ALTER TABLE para renomear o nome da tabela.\n",
    "\n",
    "__Sintaxe__\n",
    "\n",
    "_Para os SGBDs Oracle e MySQL_\n",
    "\n",
    "```\n",
    "ALTER TABLE nome_tabela RENAME TO novo_nome_table;\n",
    "```\n",
    "\n",
    "```\n",
    "ALTER TABLE nome_tabela RENAME COLUMN nome_antigo TO nome_novo;\n",
    "```\n",
    "\n",
    "_Para o SGBD - MariaDB_\n",
    "\n",
    "```\n",
    "ALTER TABLE nome_tabela CHANGE nome_antigo nome_novo tipo_dado;\n",
    "```\n",
    "\n",
    "__EX__:\n",
    "\n",
    "```\n",
    "ALTER TABLE STUDENTS RENAME TO STUDENTS_DETAILS;\n",
    "```\n",
    "\n",
    "```\n",
    "ALTER TABLE STUDENTS RENAME COLUMN COURSE TO TI_COURSE;\n",
    "``` \n",
    "\n",
    "```\n",
    "ALTER TABLE STUDENTS CHANGE COURSE TI_COURSE VARCHAR(40);\n",
    "```\n"
   ]
  },
  {
   "cell_type": "markdown",
   "metadata": {
    "id": "GzA3M2-Ypt2K"
   },
   "source": [
    "### DML"
   ]
  },
  {
   "cell_type": "markdown",
   "metadata": {
    "id": "hauLFN7MjwU5"
   },
   "source": [
    "#### Data Manipulation Language"
   ]
  },
  {
   "cell_type": "markdown",
   "metadata": {
    "id": "hKkEzpcyjzmO"
   },
   "source": [
    "São comandos SQL que lidam com a manipulação dos dados presentes no banco de dados e pertencem a esta categoria. \n",
    "\n",
    "É nesta categoria que encontramos a maioria das instruções SQL. \n",
    "\n",
    "Basicamente, as instruções DCL - _Data Control Language_ - são agrupadas com instruções DML - _Data Manipulation Language_.\n",
    "\n",
    "Lista dos comandos:\n",
    "\n",
    "* __INSERT__ : usado para inserir dados numa tabela\n",
    "\n",
    "* __UPDATE__ : usado para atualizar dados dentro de uma tabela\n",
    "\n",
    "* __DELETE__ : usado para remover registros de uma tabela"
   ]
  },
  {
   "cell_type": "markdown",
   "metadata": {
    "id": "0oWoI1v0ApLj"
   },
   "source": [
    "#### INSERT"
   ]
  },
  {
   "cell_type": "markdown",
   "metadata": {
    "id": "aedlIELLAsXr"
   },
   "source": [
    "A instrução INSERT INTO do SQL é usada para inserir uma nova linha em uma tabela. \n",
    "\n",
    "Existem duas maneiras de usar a instrução INSERT INTO para inserir linhas:"
   ]
  },
  {
   "cell_type": "markdown",
   "metadata": {
    "id": "QPSbbV5WBO4z"
   },
   "source": [
    "##### __Somente valores__"
   ]
  },
  {
   "cell_type": "markdown",
   "metadata": {
    "id": "3MoPrBjkBcDu"
   },
   "source": [
    "O primeiro método é especificar apenas o valor dos dados a serem inseridos sem os nomes das colunas.\n",
    "\n",
    "__Sintaxe__\n",
    "\n",
    "```\n",
    "INSERT INTO nome_tabela VALUES (valor1, valor2, valor3);\n",
    "```"
   ]
  },
  {
   "cell_type": "markdown",
   "metadata": {
    "id": "X_4QQIpLCQbH"
   },
   "source": [
    "##### Nomes e valores das colunas"
   ]
  },
  {
   "cell_type": "markdown",
   "metadata": {
    "id": "QEQHlqrbCZFJ"
   },
   "source": [
    "No segundo método, especificaremos as colunas que queremos preencher e seus valores correspondentes, conforme mostrado abaixo:\n",
    "\n",
    "__Sintaxe__\n",
    "\n",
    "```\n",
    "INSERT INTO nome_tabela (coluna1, coluna2, coluna3) \n",
    "  VALUES (valor1, valor2, valor3);\n",
    "```\n",
    "\n",
    "_Inserindo várias linhas_\n",
    "\n",
    "```\n",
    "INSERT INTO nome_tabela (coluna1, coluna2, coluna3) \n",
    "  VALUES (valor1, valor2, valor3),\n",
    "         (valor4, valor5, valor6),\n",
    "         (valor7, valor8, valor9);\n",
    "```"
   ]
  },
  {
   "cell_type": "markdown",
   "metadata": {
    "id": "fiUHFcMhEoqv"
   },
   "source": [
    "#### UPDATE"
   ]
  },
  {
   "cell_type": "markdown",
   "metadata": {
    "id": "ssq23Yu9Eqbr"
   },
   "source": [
    "A instrução UPDATE em SQL é utilizada para atualizar os dados de uma tabela existente no banco de dados. \n",
    "\n",
    "Podemos atualizar colunas únicas e várias colunas usando a instrução UPDATE conforme a demanda.\n",
    "\n",
    "__Sintaxe__\n",
    "\n",
    "```\n",
    "UPDATE nome_tabela SET coluna1 = valor1, coluna2 = valor2 WHERE condição;\n",
    "``` \n",
    "\n",
    "__EX__:\n",
    "\n",
    "```\n",
    "UPDATE STUDENTS SET NAME = 'Amanda Guyer' WHERE REGISTRATION = 12345;\n",
    "```\n",
    "\n",
    "_Atualizando várias colunas_\n",
    "\n",
    "```\n",
    "UPDATE STUDENTS SET\n",
    "  NAME = 'Amanda Guyer',\n",
    "  EMAIL = 'amanda@email.com'\n",
    "WHERE\n",
    "  REGISTRATION = 12345;\n",
    "```\n",
    "\n",
    "__ATENÇÃO!!!__\n",
    "\n",
    "> Se não usar a cláusula WHERE todos os registros serão atualizados com o valor informado\n",
    "\n",
    "```\n",
    "UPDATE STUDENTS SET NAME = 'Amanda';\n",
    "```"
   ]
  },
  {
   "cell_type": "markdown",
   "metadata": {
    "id": "YkOWlVk4HPQX"
   },
   "source": [
    "#### DELETE"
   ]
  },
  {
   "cell_type": "markdown",
   "metadata": {
    "id": "fDnVIyUtHRAF"
   },
   "source": [
    "A instrução DELETE em SQL é usada para excluir registros existentes de uma tabela. \n",
    "\n",
    "Podemos excluir um único registro ou vários registros dependendo da condição que especificamos na cláusula WHERE.\n",
    "\n",
    "__Sintaxe__\n",
    "\n",
    "```\n",
    "DELETE FROM nome_tabela WHERE condição;\n",
    "```\n",
    "\n",
    "__ATENÇÃO__: _podemos excluir registros únicos e/ou múltiplos, dependendo da condição que fornecemos na cláusula WHERE. Se omitirmos a cláusula WHERE, todos os registros serão excluídos e a tabela ficará vazia_\n",
    "\n",
    "__EX__:\n",
    "\n",
    "```\n",
    "DELETE FROM STUDENTS WHERE NAME = 'Amanda';\n",
    "```\n",
    "\n",
    "_Removendo todos os registos_\n",
    "\n",
    "```\n",
    "DELETE FROM STUDENTS;\n",
    "\n",
    "DELETE * FROM STUDENTS;\n",
    "```\n",
    "\n",
    "__IMPORTANTE__: DELETE é um comando DML (_Data Manipulation Language_), portanto, a operação executada por DELETE pode ser revertida ou desfeita"
   ]
  },
  {
   "cell_type": "markdown",
   "metadata": {
    "id": "CpAei5OPl_Jt"
   },
   "source": [
    "### TCL"
   ]
  },
  {
   "cell_type": "markdown",
   "metadata": {
    "id": "Oz30LTJLn1Hi"
   },
   "source": [
    "#### Transaction Control Language"
   ]
  },
  {
   "cell_type": "markdown",
   "metadata": {
    "id": "8YZu0Eq7n4AB"
   },
   "source": [
    "Considerada, por muitos, como uma outra categoria de cláusulas SQL, TCL - _Transaction Control Language_ - concentra instruções que lidam com a transação dentro do banco de dados.\n",
    "\n",
    "Lista dos comandos:\n",
    "\n",
    "* __COMMIT__ : confirma uma transação\n",
    "\n",
    "* __ROLLBACK__ : reverte uma transação caso ocorra algum erro\n",
    "\n",
    "* __SET TRANSACTION__ : especifica as características da transação"
   ]
  },
  {
   "cell_type": "markdown",
   "metadata": {
    "id": "Lu0rjpGGmBf-"
   },
   "source": [
    "### DQL"
   ]
  },
  {
   "cell_type": "markdown",
   "metadata": {
    "id": "41xcatqamEFw"
   },
   "source": [
    "#### Data Query Language"
   ]
  },
  {
   "cell_type": "markdown",
   "metadata": {
    "id": "mzpYKCNDmHCw"
   },
   "source": [
    "As instruções DQL - _Data Query Language_ - são usadas para realizar consultas nos dados em objetos de esquema (_schema_). \n",
    "\n",
    "> A finalidade do comando DQL é obter alguma relação de esquema com base na consulta passada a ele. \n",
    "\n",
    "Assim, podemos definir DQL da seguinte forma: _é um componente da instrução SQL que permite obter dados do banco de dados e impor ordem a ele_. \n",
    "\n",
    "Isto inclui a, famosa, instrução SELECT. Este comando permite retirar os dados do banco de dados para realizar operações com ele. \n",
    "\n",
    "Quando um SELECT é disparado contra uma tabela ou tabelas, o resultado é compilado em outra tabela temporária, que é exibida ou talvez recebida pelo programa, ou seja, um front-end.\n",
    "\n",
    "Lista de comandos:\n",
    "\n",
    "* __SELECT__ : usado para recuperar dados de um banco de dados"
   ]
  },
  {
   "cell_type": "markdown",
   "metadata": {
    "id": "sWGqooDE9rYd"
   },
   "source": [
    "#### SELECT"
   ]
  },
  {
   "cell_type": "markdown",
   "metadata": {
    "id": "osjll-yu-UYQ"
   },
   "source": [
    "É a instrução mais usada em SQL!\n",
    "\n",
    "A instrução SELECT em SQL é usada para recuperar ou buscar dados de um banco de dados. \n",
    "\n",
    "Podemos buscar a tabela inteira ou de acordo com algumas regras especificadas. \n",
    "\n",
    "Os dados retornados são armazenados em uma tabela de resultados. Essa tabela de resultados também é chamada de conjunto de resultados.\n",
    "\n",
    "Com a cláusula SELECT de uma instrução de comando SELECT, especificamos as colunas que queremos que sejam exibidas no resultado da consulta e, opcionalmente, quais cabeçalhos de coluna preferimos ver acima da tabela de resultados.\n",
    "\n",
    "A cláusula SELECT é a primeira cláusula e é uma das últimas cláusulas da instrução SELECT que o servidor de banco de dados avalia. \n",
    "\n",
    "A razão para isso é que antes de podermos determinar o que incluir no conjunto de resultados final, precisamos conhecer todas as colunas possíveis que podem ser incluídas no conjunto de resultados final.\n",
    "\n",
    "__Sintaxe__\n",
    "\n",
    "```\n",
    "SELECT coluna1, coluna2 FROM nome_tabela;\n",
    "```\n",
    "\n",
    "_Selecionando a tabela inteira_\n",
    "\n",
    "```\n",
    "SELECT * FROM nome_tabela;\n",
    "```\n",
    "\n",
    "__EX__:\n",
    "\n",
    "```\n",
    "SELECT REGISTRATION, NAME FROM STUDENTS;\n",
    "```\n"
   ]
  },
  {
   "cell_type": "markdown",
   "metadata": {
    "id": "cJ2JKpI9nL_l"
   },
   "source": [
    "### DCL"
   ]
  },
  {
   "cell_type": "markdown",
   "metadata": {
    "id": "biLhYjoZnNHU"
   },
   "source": [
    "#### Data Control Language"
   ]
  },
  {
   "cell_type": "markdown",
   "metadata": {
    "id": "SZJdBEvWnPkv"
   },
   "source": [
    "DCL - _Data Control Language_ - inclui comandos como __GRANT__ e __REVOKE__ que lidam principalmente com os direitos, permissões e outros controles do sistema de banco de dados.\n",
    "\n",
    "Lista dos comandos:\n",
    "\n",
    "* __GRANT__: dá aos usuários privilégios de acesso ao banco de dados\n",
    "\n",
    "* __REVOKE__: retira os privilégios de acesso do usuário concedidos pelo comando GRANT"
   ]
  },
  {
   "cell_type": "markdown",
   "metadata": {
    "id": "beNDCsaMxLBZ"
   },
   "source": [
    "## Cláusulas"
   ]
  },
  {
   "cell_type": "markdown",
   "metadata": {
    "id": "hcoypyWZMRk9"
   },
   "source": [
    "### FROM"
   ]
  },
  {
   "cell_type": "markdown",
   "metadata": {
    "id": "F5_eGVL_MU6L"
   },
   "source": [
    "A cláusula __FROM__ é usado para especificar de qual tabela selecionar ou excluir dados.\n",
    "\n",
    "__Sintaxe__\n",
    "\n",
    "```\n",
    "SELECT * FROM TABELA;\n",
    "```"
   ]
  },
  {
   "cell_type": "markdown",
   "metadata": {
    "id": "lnxn7TawNOLH"
   },
   "source": [
    "### WHERE"
   ]
  },
  {
   "cell_type": "markdown",
   "metadata": {
    "id": "T7bZEMmrNP_u"
   },
   "source": [
    "A cláusula __WHERE__ filtra um conjunto de resultados para incluir apenas os registros que atendem a uma condição especificada.\n",
    "\n",
    "__Sintaxe__\n",
    "\n",
    "```\n",
    "SELECT * FROM TABELA WHERE CONDIÇÃO;\n",
    "```"
   ]
  },
  {
   "cell_type": "markdown",
   "metadata": {
    "id": "8MTxmfA1OcH-"
   },
   "source": [
    "### ORDER BY"
   ]
  },
  {
   "cell_type": "markdown",
   "metadata": {
    "id": "QV80_NdeOezD"
   },
   "source": [
    "A cláusula __ORDER BY__ é usada para classificar o conjunto de resultados em ordem crescente ou decrescente.\n",
    "\n",
    "A cláusula __ORDER BY__ classifica o conjunto de resultados em ordem crescente por padrão. \n",
    "\n",
    "Para classificar os registros em ordem decrescente, use a palavra-chave DESC.\n",
    "\n",
    "__Sintaxe__\n",
    "\n",
    "```\n",
    "SELECT * FROM TABELA ORDER BY COLUNA;\n",
    "```"
   ]
  },
  {
   "cell_type": "markdown",
   "metadata": {
    "id": "XjKai8C-Pl4Y"
   },
   "source": [
    "#### ASC"
   ]
  },
  {
   "cell_type": "markdown",
   "metadata": {
    "id": "zsglOQUSPwmz"
   },
   "source": [
    "O comando _ASC_ é usado para classificar os dados retornados em ordem crescente\n",
    "\n",
    "```\n",
    "SELECT * FROM TABELA ORDER BY COLUNA ASC;\n",
    "```"
   ]
  },
  {
   "cell_type": "markdown",
   "metadata": {
    "id": "bKtLzZJvPufc"
   },
   "source": [
    "#### DESC"
   ]
  },
  {
   "cell_type": "markdown",
   "metadata": {
    "id": "TMgtlkpVQN3z"
   },
   "source": [
    "O comando _DESC_ é usado para classificar os dados retornados em ordem decrescente\n",
    "\n",
    "```\n",
    "SELECT * FROM TABELA ORBER BY COLUNA DESC;\n",
    "```"
   ]
  },
  {
   "cell_type": "markdown",
   "metadata": {
    "id": "irlFh0b5rzaZ"
   },
   "source": [
    "### IN"
   ]
  },
  {
   "cell_type": "markdown",
   "metadata": {
    "id": "Zwx2tlqBr1C3"
   },
   "source": [
    "O operador IN é um operador de associação que retorna valores que correspondem aos valores em uma lista ou subconsulta. \n",
    "\n",
    "> Podemos especificar vários valores em uma cláusula WHERE. \n",
    "\n",
    "Este operador compara um valor com um conjunto de valores e retorna um verdadeiro se o valor pertence a esse conjunto, senão retornará falso. \n",
    "\n",
    "__VALE LEMBRAR__ : É uma abreviação para várias condições __OR__."
   ]
  },
  {
   "cell_type": "markdown",
   "metadata": {
    "id": "2HaRzQwgsMW4"
   },
   "source": [
    "__SINTAXE__\n",
    "\n",
    "```\n",
    "SELECT * FROM TABELA WHERE COLUNA IN (VALORES);\n",
    "\n",
    "SELECT COLUNA1, COLUNA2 FROM TABELA WHERE COLUNA IN (VALORES);\n",
    "``` \n",
    "\n",
    "__EXEMPLO__\n",
    "\n",
    "```\n",
    "SELECT NAME, AGE FROM STUDENTS_DETAILS \n",
    "WHERE AGE = 18 OR AGE = 21 OR AGE = 25;\n",
    "\n",
    "SELECT NAME, AGE FROM STUDENTS_DETAILS\n",
    "WHERE AGE IN (18, 21, 25);\n",
    "\n",
    "SELECT * FROM STUDENTS_DETAILS WHERE STATE = 'RJ' OR STATE = 'SP';\n",
    "SELECT * FROM STUDENTS_DETAILS WHERE STATE IN ('RJ', 'SP');\n",
    "```"
   ]
  },
  {
   "cell_type": "markdown",
   "metadata": {
    "id": "18ZUdO4qtIw6"
   },
   "source": [
    "### NOT IN"
   ]
  },
  {
   "cell_type": "markdown",
   "metadata": {
    "id": "LzXE8BbTtK_n"
   },
   "source": [
    "Se temos o operador __IN__, podemos pensar que, também, teremos o operador __NOT IN__? \n",
    "\n",
    "__Sim!!!__\n",
    "\n",
    "Este operador, basicamente, nega ou faz o inverso do operador __IN__ que vimos acima"
   ]
  },
  {
   "cell_type": "markdown",
   "metadata": {
    "id": "oJz_ZkCntmxM"
   },
   "source": [
    "__SINTAXE__\n",
    "\n",
    "```\n",
    "SELECT * FROM TABELA WHERE COLUNA NOT IN (VALORES);\n",
    "\n",
    "SELECT COLUNA1, COLUNA2 FROM TABELA WHERE COLUNA NOT IN (VALORES);\n",
    "``` \n",
    "\n",
    "__EXEMPLO__\n",
    "\n",
    "```\n",
    "SELECT NAME, AGE FROM STUDENTS_DETAILS \n",
    "WHERE AGE <> 18 OR AGE <> 21 OR AGE <> 25;\n",
    "\n",
    "SELECT NAME, AGE FROM STUDENTS_DETAILS\n",
    "WHERE AGE NOT IN (18, 21, 25);\n",
    "\n",
    "SELECT * FROM STUDENTS_DETAILS WHERE STATE <> 'RJ' OR STATE <> 'SP';\n",
    "SELECT * FROM STUDENTS_DETAILS WHERE STATE NOT IN ('RJ', 'SP');\n",
    "```"
   ]
  },
  {
   "cell_type": "markdown",
   "metadata": {},
   "source": [
    "### BETWEEN"
   ]
  },
  {
   "cell_type": "markdown",
   "metadata": {},
   "source": [
    "Se desejarmos selecionar os registros dentro de um intervalo, como por exemplo, todos os alunos com idade entre 15 e 25 anos, podemos utilizar a cláusula `BETWEEN`.\n",
    "\n",
    "**SINTAXE**\n",
    "\n",
    "```SELECT * FROM TABELA WHERE COLUNA BETWEEN VALOR1 AND VALOR2;```\n",
    "\n",
    "**EXEMPLO**\n",
    "\n",
    "```\n",
    "SELECT * FROM STUDENTS_DETAILS \n",
    "WHERE AGE BETWEEN 15 AND 25;\n",
    "```\n",
    "\n",
    "**OBS**: Lembre-se que os valores 15 e 25 são incluídos, ou seja, se houver algum aluno com essas idades, o registro será retornado no `SELECT`"
   ]
  },
  {
   "cell_type": "markdown",
   "metadata": {
    "id": "KbsmNjEoulAG"
   },
   "source": [
    "### LIKE"
   ]
  },
  {
   "cell_type": "markdown",
   "metadata": {
    "id": "mgHyfm8HumwG"
   },
   "source": [
    "Às vezes, podemos selecionar _tuplas_ ou _regitros_ do __banco de dados__ que correspondam a determinados padrões. \n",
    "\n",
    "Como querer recuperar todas as colunas onde as _tuplas_ ou _registros_ começam com determinada letra, ou começam com uma letra específica e terminam com outra letra, ou padrões de string ainda mais complexos e restritivos. \n",
    "\n",
    "Para estes casos, temos a cláusula `LIKE` que vem para resgatar estes registros com base num padrão e, geralmente, está associada à cláusula `WHERE`.\n",
    "\n",
    "Existem dois tipos de _curingas_ usados para filtrar os resultados:\n",
    "\n",
    "* __`%`__ : usado para corresponder a zero ou mais caracteres\n",
    "* `_` : usado para corresponder exatamente a um caractere"
   ]
  },
  {
   "cell_type": "markdown",
   "metadata": {
    "id": "3AIWO1rxv4ZI"
   },
   "source": [
    "__SINTAXE__\n",
    "\n",
    "```\n",
    "SELECT * FROM TABELA WHERE COLUNA LIKE 'PADRÃO';\n",
    "```\n",
    "\n",
    "__EXEMPLO__\n",
    "\n",
    "```\n",
    "-- Retorna todos os nomes iniciados com a letra R\n",
    "SELECT * FROM STUDENTS_DETAILS WHERE NAME LIKE 'R%';\n",
    "\n",
    "-- Retorna todos os nomes que possuam qualquer letra entre das letras A\n",
    "SELECT NAME FROM STUDENTS_DETAILS WHERE NAME LIKE '%A_A%';\n",
    "\n",
    "-- Retorno todos os nomes que terminam com a letra O\n",
    "SELECT NAME FROM STUDENTS_DETAILS WHERE NAME LIKE '%o';\n",
    "\n",
    "-- Retorna todos os nomes onde a terceira letra é F\n",
    "SELECT NAME FROM STUDENTS_DETAILS WHERE NAME LIKE '__f%';\n",
    "```"
   ]
  },
  {
   "cell_type": "markdown",
   "metadata": {
    "id": "mU_n4yrkx2Ip"
   },
   "source": [
    "## Funções de Agregação"
   ]
  },
  {
   "cell_type": "markdown",
   "metadata": {
    "id": "23KPqJ0PTHFd"
   },
   "source": [
    "### AVG"
   ]
  },
  {
   "cell_type": "markdown",
   "metadata": {
    "id": "ucghbvcte2mD"
   },
   "source": [
    "Calcula a média aritmética dos valores em uma única coluna. \n",
    "\n",
    "__Sintaxe__\n",
    "\n",
    "```\n",
    "SELECT AVG(AGE) AS 'MEAN OF AGES' FROM STUDENTS_DETAILS;\n",
    "```\n",
    "\n",
    "__No MariaDB__ \n",
    "```\n",
    "SELECT CAST(AVG(AGE) AS INT) AS 'MEAN OF AGES' FROM STUDENTS_DETAILS;\n",
    "```\n",
    "\n",
    "__No MySQL__\n",
    "```\n",
    "SELECT CAST(FLOOR(AVG(AGE)) AS SIGNED) AS 'MEAN OF AGES' FROM STUDENTS_DETAILS;\n",
    "```"
   ]
  },
  {
   "cell_type": "markdown",
   "metadata": {
    "id": "obzt-vlATIld"
   },
   "source": [
    "### COUNT"
   ]
  },
  {
   "cell_type": "markdown",
   "metadata": {
    "id": "m-LeMeZqfhzc"
   },
   "source": [
    "Retorna o total de linhas selecionadas. \n",
    "\n",
    "Ela pode receber por parâmetro o nome da coluna ou um asterisco. \n",
    "\n",
    "__ATENÇÃO__ : _Por padrão, quando informado o nome de uma coluna, valores do tipo null são ignorados, mas quando informado * todas as linhas serão contabilizadas_\n",
    "\n",
    "__Sintaxe__\n",
    "\n",
    "```\n",
    "SELECT COUNT(*) FROM STUDENTS_DETAILS;\n",
    "\n",
    "SELECT COUNT(AGE) FROM STUDENTS_DETAILS;\n",
    "\n",
    "SELECT COUNT(AGE) FROM STUDENTS WHERE AGE > 21;\n",
    "```"
   ]
  },
  {
   "cell_type": "markdown",
   "metadata": {
    "id": "ADZ-AD6YTJ63"
   },
   "source": [
    "### SUM"
   ]
  },
  {
   "cell_type": "markdown",
   "metadata": {
    "id": "1y0JRfidhbu1"
   },
   "source": [
    "Realiza a soma dos valores em uma única coluna e retorna esse resultado.\n",
    "\n",
    "__Sintaxe__\n",
    "\n",
    "```\n",
    "SELECT SUM(FEE) AS 'TOTAL RECEIVABLE [ R$ ]' FROM STUDENTS_DETAILS;\n",
    "\n",
    "SELECT SUM(FEE) AS 'AMOUNT TO BE RECEIVE [ R$ ]' FROM STUDENTS_DETAILS;\n",
    "```"
   ]
  },
  {
   "cell_type": "markdown",
   "metadata": {
    "id": "NwqR9OrHTLdK"
   },
   "source": [
    "### MAX"
   ]
  },
  {
   "cell_type": "markdown",
   "metadata": {
    "id": "FLEiHAhgjFRR"
   },
   "source": [
    "Analisa um conjunto de valores e retorna o maior entre eles\n",
    "\n",
    "__Sintaxe__\n",
    "\n",
    "```\n",
    "SELECT MAX(AGE) FROM STUDENTS_DETAILS;\n",
    "\n",
    "SELECT * FROM STUDENTS \n",
    "WHERE AGE = (SELECT MAX(AGE) FROM STUDENTS_DETAILS);\n",
    "```"
   ]
  },
  {
   "cell_type": "markdown",
   "metadata": {
    "id": "GTB_A4AzTYpB"
   },
   "source": [
    "### MIN"
   ]
  },
  {
   "cell_type": "markdown",
   "metadata": {
    "id": "lz9_NU5ejlTR"
   },
   "source": [
    "Analisa um grupo de valores e retorna o menor entre eles\n",
    "\n",
    "__Sintaxe__\n",
    "\n",
    "```\n",
    "SELECT MIN(AGE) FROM STUDENTS_DETAILS;\n",
    "\n",
    "SELECT * FROM STUDENTS \n",
    "WHERE AGE = (SELECT MIN(AGE) FROM STUDENTS_DETAILS);\n",
    "```"
   ]
  },
  {
   "cell_type": "markdown",
   "metadata": {
    "id": "DE5Ov65KpTRT"
   },
   "source": [
    "> SELECT MAX(AGE), MIN(AGE) FROM STUDENTS;"
   ]
  },
  {
   "cell_type": "markdown",
   "metadata": {
    "id": "aAexSFbnxbcL"
   },
   "source": [
    "## Operadores lógicos"
   ]
  },
  {
   "cell_type": "markdown",
   "metadata": {
    "id": "PNHoGLuVRF_9"
   },
   "source": [
    "### AND"
   ]
  },
  {
   "cell_type": "markdown",
   "metadata": {
    "id": "-SBe4CS1RH2Z"
   },
   "source": [
    "O comando __AND__ é usado com WHERE para incluir somente linhas onde ambas as condições são verdadeiras\n",
    "\n",
    "```\n",
    "SELECT * FROM TABELA WHERE COLUNA1 = 'VALOR1' AND COLUNA2 = 'VALOR2';\n",
    "```"
   ]
  },
  {
   "cell_type": "markdown",
   "metadata": {
    "id": "nJL9XYWnRogY"
   },
   "source": [
    "### OR"
   ]
  },
  {
   "cell_type": "markdown",
   "metadata": {
    "id": "LgDFZkAGRqfG"
   },
   "source": [
    "O comando __OR__ é usado com WHERE para incluir linhas onde uma das condições é verdadeira\n",
    "\n",
    "```\n",
    "SELECT * FROM TABELA WHERE COLUNA1 = 'VALOR1' OR COLUNA1 = 'VALOR2';\n",
    "```"
   ]
  },
  {
   "cell_type": "markdown",
   "metadata": {
    "id": "sni7CzNiSKcc"
   },
   "source": [
    "### NOT"
   ]
  },
  {
   "cell_type": "markdown",
   "metadata": {
    "id": "ZvapON2BSMDl"
   },
   "source": [
    "O comando __NOT__ é usado com WHERE para incluir apenas linhas onde uma condição não é verdadeira\n",
    "\n",
    "```\n",
    "SELECT * FROM TABELA WHERE NOT COLUNA1 = 'VALOR1';\n",
    "```"
   ]
  },
  {
   "cell_type": "markdown",
   "metadata": {
    "id": "MccWWAKpxnZk"
   },
   "source": [
    "## Operadores Relacionais"
   ]
  },
  {
   "cell_type": "markdown",
   "metadata": {
    "id": "wjDjt7KrkQ1b"
   },
   "source": [
    "Podemos utilizar os operadores relacionais juntamente com a cláusula WHERE para filtrarmos dados em nossas tabelas\n",
    "\n",
    "* __<__ : menor\n",
    "* __>__ : maior\n",
    "* __<=__ : menor ou igual\n",
    "* __>=__ : maior ou igual\n",
    "* __=__ : igual\n",
    "* __<>__ : diferente\n",
    "\n",
    "```\n",
    "SELECT * FROM COURSES WHERE TIME < 10;\n",
    "```"
   ]
  }
 ],
 "metadata": {
  "colab": {
   "provenance": []
  },
  "kernelspec": {
   "display_name": "Python 3 (ipykernel)",
   "language": "python",
   "name": "python3"
  },
  "language_info": {
   "codemirror_mode": {
    "name": "ipython",
    "version": 3
   },
   "file_extension": ".py",
   "mimetype": "text/x-python",
   "name": "python",
   "nbconvert_exporter": "python",
   "pygments_lexer": "ipython3",
   "version": "3.9.12"
  }
 },
 "nbformat": 4,
 "nbformat_minor": 1
}
