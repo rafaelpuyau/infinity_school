{
 "cells": [
  {
   "cell_type": "code",
   "execution_count": 2,
   "id": "24653f84",
   "metadata": {},
   "outputs": [],
   "source": [
    "import pandas as pd\n",
    "from matplotlib import pyplot as plt"
   ]
  },
  {
   "cell_type": "code",
   "execution_count": 4,
   "id": "65e2260c",
   "metadata": {},
   "outputs": [],
   "source": [
    "# Formatação dos números\n",
    "pd.options.display.float_format = '{:20,.2f}'.format"
   ]
  },
  {
   "cell_type": "code",
   "execution_count": 6,
   "id": "4e2ff8e0",
   "metadata": {
    "collapsed": true
   },
   "outputs": [
    {
     "name": "stdout",
     "output_type": "stream",
     "text": [
      "Collecting openpyxl\n",
      "  Downloading openpyxl-3.1.1-py2.py3-none-any.whl (249 kB)\n",
      "     -------------------------------------- 249.8/249.8 kB 1.7 MB/s eta 0:00:00\n",
      "Collecting et-xmlfile\n",
      "  Using cached et_xmlfile-1.1.0-py3-none-any.whl (4.7 kB)\n",
      "Installing collected packages: et-xmlfile, openpyxl\n",
      "Successfully installed et-xmlfile-1.1.0 openpyxl-3.1.1\n"
     ]
    },
    {
     "name": "stderr",
     "output_type": "stream",
     "text": [
      "\n",
      "[notice] A new release of pip available: 22.3.1 -> 23.0.1\n",
      "[notice] To update, run: python.exe -m pip install --upgrade pip\n"
     ]
    }
   ],
   "source": [
    "!pip install openpyxl"
   ]
  },
  {
   "cell_type": "code",
   "execution_count": 9,
   "id": "00d630dc",
   "metadata": {},
   "outputs": [],
   "source": [
    "dataset = r'C:\\Users\\professor\\Downloads\\AdventureWorks.xlsx'\n",
    "df = pd.read_excel(dataset)"
   ]
  },
  {
   "cell_type": "code",
   "execution_count": 10,
   "id": "bc315287",
   "metadata": {},
   "outputs": [
    {
     "data": {
      "text/html": [
       "<div>\n",
       "<style scoped>\n",
       "    .dataframe tbody tr th:only-of-type {\n",
       "        vertical-align: middle;\n",
       "    }\n",
       "\n",
       "    .dataframe tbody tr th {\n",
       "        vertical-align: top;\n",
       "    }\n",
       "\n",
       "    .dataframe thead th {\n",
       "        text-align: right;\n",
       "    }\n",
       "</style>\n",
       "<table border=\"1\" class=\"dataframe\">\n",
       "  <thead>\n",
       "    <tr style=\"text-align: right;\">\n",
       "      <th></th>\n",
       "      <th>Data Venda</th>\n",
       "      <th>Data Envio</th>\n",
       "      <th>ID Loja</th>\n",
       "      <th>ID Produto</th>\n",
       "      <th>ID Cliente</th>\n",
       "      <th>No. Venda</th>\n",
       "      <th>Custo Unitário</th>\n",
       "      <th>Preço Unitário</th>\n",
       "      <th>Quantidade</th>\n",
       "      <th>Valor Desconto</th>\n",
       "      <th>Valor Venda</th>\n",
       "      <th>Produto</th>\n",
       "      <th>Fabricante</th>\n",
       "      <th>Marca</th>\n",
       "      <th>Classe</th>\n",
       "      <th>Cor</th>\n",
       "    </tr>\n",
       "  </thead>\n",
       "  <tbody>\n",
       "    <tr>\n",
       "      <th>0</th>\n",
       "      <td>2008-05-09</td>\n",
       "      <td>2008-05-29</td>\n",
       "      <td>199</td>\n",
       "      <td>384</td>\n",
       "      <td>18839</td>\n",
       "      <td>200805093CS607</td>\n",
       "      <td>348.58</td>\n",
       "      <td>758.00</td>\n",
       "      <td>6</td>\n",
       "      <td>0.00</td>\n",
       "      <td>4,548.00</td>\n",
       "      <td>Adventure Works Laptop15.4W M1548 Red</td>\n",
       "      <td>Adventure Works</td>\n",
       "      <td>Adventure Works</td>\n",
       "      <td>Regular</td>\n",
       "      <td>Red</td>\n",
       "    </tr>\n",
       "    <tr>\n",
       "      <th>1</th>\n",
       "      <td>2008-05-12</td>\n",
       "      <td>2008-05-17</td>\n",
       "      <td>306</td>\n",
       "      <td>384</td>\n",
       "      <td>19051</td>\n",
       "      <td>200805123CS567</td>\n",
       "      <td>348.58</td>\n",
       "      <td>758.00</td>\n",
       "      <td>6</td>\n",
       "      <td>0.00</td>\n",
       "      <td>4,548.00</td>\n",
       "      <td>Adventure Works Laptop15.4W M1548 Red</td>\n",
       "      <td>Adventure Works</td>\n",
       "      <td>Adventure Works</td>\n",
       "      <td>Regular</td>\n",
       "      <td>Red</td>\n",
       "    </tr>\n",
       "    <tr>\n",
       "      <th>2</th>\n",
       "      <td>2008-05-14</td>\n",
       "      <td>2008-05-20</td>\n",
       "      <td>306</td>\n",
       "      <td>384</td>\n",
       "      <td>19052</td>\n",
       "      <td>200805143CS576</td>\n",
       "      <td>348.58</td>\n",
       "      <td>758.00</td>\n",
       "      <td>6</td>\n",
       "      <td>0.00</td>\n",
       "      <td>4,548.00</td>\n",
       "      <td>Adventure Works Laptop15.4W M1548 Red</td>\n",
       "      <td>Adventure Works</td>\n",
       "      <td>Adventure Works</td>\n",
       "      <td>Regular</td>\n",
       "      <td>Red</td>\n",
       "    </tr>\n",
       "    <tr>\n",
       "      <th>3</th>\n",
       "      <td>2008-05-21</td>\n",
       "      <td>2008-05-27</td>\n",
       "      <td>306</td>\n",
       "      <td>384</td>\n",
       "      <td>19052</td>\n",
       "      <td>200805213CS576</td>\n",
       "      <td>348.58</td>\n",
       "      <td>758.00</td>\n",
       "      <td>6</td>\n",
       "      <td>0.00</td>\n",
       "      <td>4,548.00</td>\n",
       "      <td>Adventure Works Laptop15.4W M1548 Red</td>\n",
       "      <td>Adventure Works</td>\n",
       "      <td>Adventure Works</td>\n",
       "      <td>Regular</td>\n",
       "      <td>Red</td>\n",
       "    </tr>\n",
       "    <tr>\n",
       "      <th>4</th>\n",
       "      <td>2008-06-20</td>\n",
       "      <td>2008-06-27</td>\n",
       "      <td>306</td>\n",
       "      <td>384</td>\n",
       "      <td>19053</td>\n",
       "      <td>200806203CS586</td>\n",
       "      <td>348.58</td>\n",
       "      <td>758.00</td>\n",
       "      <td>6</td>\n",
       "      <td>0.00</td>\n",
       "      <td>4,548.00</td>\n",
       "      <td>Adventure Works Laptop15.4W M1548 Red</td>\n",
       "      <td>Adventure Works</td>\n",
       "      <td>Adventure Works</td>\n",
       "      <td>Regular</td>\n",
       "      <td>Red</td>\n",
       "    </tr>\n",
       "  </tbody>\n",
       "</table>\n",
       "</div>"
      ],
      "text/plain": [
       "  Data Venda Data Envio  ID Loja  ID Produto  ID Cliente       No. Venda  \\\n",
       "0 2008-05-09 2008-05-29      199         384       18839  200805093CS607   \n",
       "1 2008-05-12 2008-05-17      306         384       19051  200805123CS567   \n",
       "2 2008-05-14 2008-05-20      306         384       19052  200805143CS576   \n",
       "3 2008-05-21 2008-05-27      306         384       19052  200805213CS576   \n",
       "4 2008-06-20 2008-06-27      306         384       19053  200806203CS586   \n",
       "\n",
       "        Custo Unitário       Preço Unitário  Quantidade       Valor Desconto  \\\n",
       "0               348.58               758.00           6                 0.00   \n",
       "1               348.58               758.00           6                 0.00   \n",
       "2               348.58               758.00           6                 0.00   \n",
       "3               348.58               758.00           6                 0.00   \n",
       "4               348.58               758.00           6                 0.00   \n",
       "\n",
       "           Valor Venda                                Produto  \\\n",
       "0             4,548.00  Adventure Works Laptop15.4W M1548 Red   \n",
       "1             4,548.00  Adventure Works Laptop15.4W M1548 Red   \n",
       "2             4,548.00  Adventure Works Laptop15.4W M1548 Red   \n",
       "3             4,548.00  Adventure Works Laptop15.4W M1548 Red   \n",
       "4             4,548.00  Adventure Works Laptop15.4W M1548 Red   \n",
       "\n",
       "        Fabricante            Marca   Classe  Cor  \n",
       "0  Adventure Works  Adventure Works  Regular  Red  \n",
       "1  Adventure Works  Adventure Works  Regular  Red  \n",
       "2  Adventure Works  Adventure Works  Regular  Red  \n",
       "3  Adventure Works  Adventure Works  Regular  Red  \n",
       "4  Adventure Works  Adventure Works  Regular  Red  "
      ]
     },
     "execution_count": 10,
     "metadata": {},
     "output_type": "execute_result"
    }
   ],
   "source": [
    "df.head()"
   ]
  },
  {
   "cell_type": "code",
   "execution_count": 11,
   "id": "68dfb339",
   "metadata": {},
   "outputs": [
    {
     "data": {
      "text/plain": [
       "(904, 16)"
      ]
     },
     "execution_count": 11,
     "metadata": {},
     "output_type": "execute_result"
    }
   ],
   "source": [
    "df.shape\n"
   ]
  },
  {
   "cell_type": "code",
   "execution_count": 12,
   "id": "4d70b173",
   "metadata": {},
   "outputs": [
    {
     "name": "stdout",
     "output_type": "stream",
     "text": [
      "<class 'pandas.core.frame.DataFrame'>\n",
      "RangeIndex: 904 entries, 0 to 903\n",
      "Data columns (total 16 columns):\n",
      " #   Column          Non-Null Count  Dtype         \n",
      "---  ------          --------------  -----         \n",
      " 0   Data Venda      904 non-null    datetime64[ns]\n",
      " 1   Data Envio      904 non-null    datetime64[ns]\n",
      " 2   ID Loja         904 non-null    int64         \n",
      " 3   ID Produto      904 non-null    int64         \n",
      " 4   ID Cliente      904 non-null    int64         \n",
      " 5   No. Venda       904 non-null    object        \n",
      " 6   Custo Unitário  904 non-null    float64       \n",
      " 7   Preço Unitário  904 non-null    float64       \n",
      " 8   Quantidade      904 non-null    int64         \n",
      " 9   Valor Desconto  904 non-null    float64       \n",
      " 10  Valor Venda     904 non-null    float64       \n",
      " 11  Produto         904 non-null    object        \n",
      " 12  Fabricante      904 non-null    object        \n",
      " 13  Marca           904 non-null    object        \n",
      " 14  Classe          904 non-null    object        \n",
      " 15  Cor             904 non-null    object        \n",
      "dtypes: datetime64[ns](2), float64(4), int64(4), object(6)\n",
      "memory usage: 113.1+ KB\n"
     ]
    }
   ],
   "source": [
    "df.info()"
   ]
  },
  {
   "cell_type": "code",
   "execution_count": 13,
   "id": "e7fcd318",
   "metadata": {},
   "outputs": [
    {
     "data": {
      "text/html": [
       "<div>\n",
       "<style scoped>\n",
       "    .dataframe tbody tr th:only-of-type {\n",
       "        vertical-align: middle;\n",
       "    }\n",
       "\n",
       "    .dataframe tbody tr th {\n",
       "        vertical-align: top;\n",
       "    }\n",
       "\n",
       "    .dataframe thead th {\n",
       "        text-align: right;\n",
       "    }\n",
       "</style>\n",
       "<table border=\"1\" class=\"dataframe\">\n",
       "  <thead>\n",
       "    <tr style=\"text-align: right;\">\n",
       "      <th></th>\n",
       "      <th>ID Loja</th>\n",
       "      <th>ID Produto</th>\n",
       "      <th>ID Cliente</th>\n",
       "      <th>Custo Unitário</th>\n",
       "      <th>Preço Unitário</th>\n",
       "      <th>Quantidade</th>\n",
       "      <th>Valor Desconto</th>\n",
       "      <th>Valor Venda</th>\n",
       "    </tr>\n",
       "  </thead>\n",
       "  <tbody>\n",
       "    <tr>\n",
       "      <th>count</th>\n",
       "      <td>904.00</td>\n",
       "      <td>904.00</td>\n",
       "      <td>904.00</td>\n",
       "      <td>904.00</td>\n",
       "      <td>904.00</td>\n",
       "      <td>904.00</td>\n",
       "      <td>904.00</td>\n",
       "      <td>904.00</td>\n",
       "    </tr>\n",
       "    <tr>\n",
       "      <th>mean</th>\n",
       "      <td>270.02</td>\n",
       "      <td>1,225.24</td>\n",
       "      <td>19,029.09</td>\n",
       "      <td>272.01</td>\n",
       "      <td>742.53</td>\n",
       "      <td>62.95</td>\n",
       "      <td>689.12</td>\n",
       "      <td>6,620.14</td>\n",
       "    </tr>\n",
       "    <tr>\n",
       "      <th>std</th>\n",
       "      <td>50.96</td>\n",
       "      <td>706.70</td>\n",
       "      <td>96.43</td>\n",
       "      <td>129.77</td>\n",
       "      <td>368.59</td>\n",
       "      <td>148.95</td>\n",
       "      <td>822.36</td>\n",
       "      <td>4,319.41</td>\n",
       "    </tr>\n",
       "    <tr>\n",
       "      <th>min</th>\n",
       "      <td>199.00</td>\n",
       "      <td>366.00</td>\n",
       "      <td>18,815.00</td>\n",
       "      <td>5.09</td>\n",
       "      <td>9.99</td>\n",
       "      <td>2.00</td>\n",
       "      <td>0.00</td>\n",
       "      <td>159.84</td>\n",
       "    </tr>\n",
       "    <tr>\n",
       "      <th>25%</th>\n",
       "      <td>199.00</td>\n",
       "      <td>384.00</td>\n",
       "      <td>18,964.75</td>\n",
       "      <td>324.69</td>\n",
       "      <td>758.00</td>\n",
       "      <td>6.00</td>\n",
       "      <td>0.00</td>\n",
       "      <td>3,920.00</td>\n",
       "    </tr>\n",
       "    <tr>\n",
       "      <th>50%</th>\n",
       "      <td>306.00</td>\n",
       "      <td>1,202.00</td>\n",
       "      <td>19,060.00</td>\n",
       "      <td>330.66</td>\n",
       "      <td>980.00</td>\n",
       "      <td>9.00</td>\n",
       "      <td>461.17</td>\n",
       "      <td>5,798.70</td>\n",
       "    </tr>\n",
       "    <tr>\n",
       "      <th>75%</th>\n",
       "      <td>307.00</td>\n",
       "      <td>1,226.00</td>\n",
       "      <td>19,107.00</td>\n",
       "      <td>348.58</td>\n",
       "      <td>998.00</td>\n",
       "      <td>17.00</td>\n",
       "      <td>1,005.08</td>\n",
       "      <td>7,986.00</td>\n",
       "    </tr>\n",
       "    <tr>\n",
       "      <th>max</th>\n",
       "      <td>307.00</td>\n",
       "      <td>2,497.00</td>\n",
       "      <td>19,145.00</td>\n",
       "      <td>348.58</td>\n",
       "      <td>999.00</td>\n",
       "      <td>1,560.00</td>\n",
       "      <td>6,272.00</td>\n",
       "      <td>29,400.00</td>\n",
       "    </tr>\n",
       "  </tbody>\n",
       "</table>\n",
       "</div>"
      ],
      "text/plain": [
       "                   ID Loja           ID Produto           ID Cliente  \\\n",
       "count               904.00               904.00               904.00   \n",
       "mean                270.02             1,225.24            19,029.09   \n",
       "std                  50.96               706.70                96.43   \n",
       "min                 199.00               366.00            18,815.00   \n",
       "25%                 199.00               384.00            18,964.75   \n",
       "50%                 306.00             1,202.00            19,060.00   \n",
       "75%                 307.00             1,226.00            19,107.00   \n",
       "max                 307.00             2,497.00            19,145.00   \n",
       "\n",
       "            Custo Unitário       Preço Unitário           Quantidade  \\\n",
       "count               904.00               904.00               904.00   \n",
       "mean                272.01               742.53                62.95   \n",
       "std                 129.77               368.59               148.95   \n",
       "min                   5.09                 9.99                 2.00   \n",
       "25%                 324.69               758.00                 6.00   \n",
       "50%                 330.66               980.00                 9.00   \n",
       "75%                 348.58               998.00                17.00   \n",
       "max                 348.58               999.00             1,560.00   \n",
       "\n",
       "            Valor Desconto          Valor Venda  \n",
       "count               904.00               904.00  \n",
       "mean                689.12             6,620.14  \n",
       "std                 822.36             4,319.41  \n",
       "min                   0.00               159.84  \n",
       "25%                   0.00             3,920.00  \n",
       "50%                 461.17             5,798.70  \n",
       "75%               1,005.08             7,986.00  \n",
       "max               6,272.00            29,400.00  "
      ]
     },
     "execution_count": 13,
     "metadata": {},
     "output_type": "execute_result"
    }
   ],
   "source": [
    "df.describe()"
   ]
  },
  {
   "cell_type": "code",
   "execution_count": 15,
   "id": "c7b3eeec",
   "metadata": {},
   "outputs": [
    {
     "data": {
      "text/plain": [
       "9"
      ]
     },
     "execution_count": 15,
     "metadata": {},
     "output_type": "execute_result"
    }
   ],
   "source": [
    "df['Produto'].nunique()"
   ]
  },
  {
   "cell_type": "code",
   "execution_count": 23,
   "id": "711c5f64",
   "metadata": {},
   "outputs": [
    {
     "data": {
      "text/plain": [
       "23       2\n",
       "35       4\n",
       "36       5\n",
       "0        6\n",
       "11       7\n",
       "3        8\n",
       "29       9\n",
       "28      10\n",
       "22      11\n",
       "1       12\n",
       "7       13\n",
       "8       14\n",
       "6       15\n",
       "9       16\n",
       "25      17\n",
       "2       18\n",
       "10      19\n",
       "30      20\n",
       "31      21\n",
       "26      22\n",
       "24      23\n",
       "4       24\n",
       "34      25\n",
       "33      26\n",
       "32      28\n",
       "5       30\n",
       "27      32\n",
       "39      37\n",
       "54      44\n",
       "20      48\n",
       "52      74\n",
       "44      96\n",
       "40     108\n",
       "13     120\n",
       "37     144\n",
       "41     156\n",
       "45     192\n",
       "47     216\n",
       "12     240\n",
       "53     264\n",
       "16     288\n",
       "43     312\n",
       "49     384\n",
       "21     428\n",
       "38     432\n",
       "42     468\n",
       "14     480\n",
       "19     576\n",
       "46     624\n",
       "17     720\n",
       "48     864\n",
       "50     936\n",
       "18    1152\n",
       "51    1173\n",
       "15    1440\n",
       "55    1560\n",
       "dtype: int64"
      ]
     },
     "execution_count": 23,
     "metadata": {},
     "output_type": "execute_result"
    }
   ],
   "source": [
    "qtde=df['Quantidade'].unique()\n",
    "type(qtde)\n",
    "sqtde=pd.Series(qtde)\n",
    "sqtde.sort_values()"
   ]
  },
  {
   "cell_type": "code",
   "execution_count": 29,
   "id": "2c7cdf60",
   "metadata": {},
   "outputs": [
    {
     "data": {
      "image/png": "[encoded data removed]",
      "text/plain": [
       "<Figure size 1600x800 with 1 Axes>"
      ]
     },
     "metadata": {},
     "output_type": "display_data"
    }
   ],
   "source": [
    "fig, ax = plt.subplots(figsize= (16,8))\n",
    "#ax.plot(df['Data Venda'], df['Quantidade'])\n",
    "ax.bar(df['Data Venda'], df['Quantidade'])\n",
    "plt.show()"
   ]
  },
  {
   "cell_type": "code",
   "execution_count": 40,
   "id": "de095df0",
   "metadata": {},
   "outputs": [
    {
     "data": {
      "image/png": "[encoded data removed]",
      "text/plain": [
       "<Figure size 1600x800 with 1 Axes>"
      ]
     },
     "metadata": {},
     "output_type": "display_data"
    }
   ],
   "source": [
    "qtde_dia=df.groupby('Data Venda')['Quantidade'].sum()\n",
    "fig, ax= plt.subplots(figsize=(16,8))\n",
    "ax.bar(qtde_dia.index, qtde_dia.values)\n",
    "plt.show()"
   ]
  },
  {
   "cell_type": "code",
   "execution_count": 49,
   "id": "9bc6ed0b",
   "metadata": {},
   "outputs": [
    {
     "data": {
      "text/html": [
       "<div>\n",
       "<style scoped>\n",
       "    .dataframe tbody tr th:only-of-type {\n",
       "        vertical-align: middle;\n",
       "    }\n",
       "\n",
       "    .dataframe tbody tr th {\n",
       "        vertical-align: top;\n",
       "    }\n",
       "\n",
       "    .dataframe thead th {\n",
       "        text-align: right;\n",
       "    }\n",
       "</style>\n",
       "<table border=\"1\" class=\"dataframe\">\n",
       "  <thead>\n",
       "    <tr style=\"text-align: right;\">\n",
       "      <th></th>\n",
       "      <th>Data Venda</th>\n",
       "      <th>Preço Unitário</th>\n",
       "      <th>Quantidade</th>\n",
       "      <th>Valor Venda</th>\n",
       "      <th>Produto</th>\n",
       "    </tr>\n",
       "  </thead>\n",
       "  <tbody>\n",
       "    <tr>\n",
       "      <th>0</th>\n",
       "      <td>2008-05-09</td>\n",
       "      <td>758.00</td>\n",
       "      <td>6</td>\n",
       "      <td>4,548.00</td>\n",
       "      <td>Adventure Works Laptop15.4W M1548 Red</td>\n",
       "    </tr>\n",
       "    <tr>\n",
       "      <th>1</th>\n",
       "      <td>2008-05-12</td>\n",
       "      <td>758.00</td>\n",
       "      <td>6</td>\n",
       "      <td>4,548.00</td>\n",
       "      <td>Adventure Works Laptop15.4W M1548 Red</td>\n",
       "    </tr>\n",
       "    <tr>\n",
       "      <th>2</th>\n",
       "      <td>2008-05-14</td>\n",
       "      <td>758.00</td>\n",
       "      <td>6</td>\n",
       "      <td>4,548.00</td>\n",
       "      <td>Adventure Works Laptop15.4W M1548 Red</td>\n",
       "    </tr>\n",
       "    <tr>\n",
       "      <th>3</th>\n",
       "      <td>2008-05-21</td>\n",
       "      <td>758.00</td>\n",
       "      <td>6</td>\n",
       "      <td>4,548.00</td>\n",
       "      <td>Adventure Works Laptop15.4W M1548 Red</td>\n",
       "    </tr>\n",
       "    <tr>\n",
       "      <th>4</th>\n",
       "      <td>2008-06-20</td>\n",
       "      <td>758.00</td>\n",
       "      <td>6</td>\n",
       "      <td>4,548.00</td>\n",
       "      <td>Adventure Works Laptop15.4W M1548 Red</td>\n",
       "    </tr>\n",
       "    <tr>\n",
       "      <th>...</th>\n",
       "      <td>...</td>\n",
       "      <td>...</td>\n",
       "      <td>...</td>\n",
       "      <td>...</td>\n",
       "      <td>...</td>\n",
       "    </tr>\n",
       "    <tr>\n",
       "      <th>899</th>\n",
       "      <td>2008-03-22</td>\n",
       "      <td>999.00</td>\n",
       "      <td>6</td>\n",
       "      <td>5,574.42</td>\n",
       "      <td>Fabrikam Trendsetter 1/3'' 8.5mm X200 Black</td>\n",
       "    </tr>\n",
       "    <tr>\n",
       "      <th>900</th>\n",
       "      <td>2008-10-04</td>\n",
       "      <td>980.00</td>\n",
       "      <td>6</td>\n",
       "      <td>4,704.00</td>\n",
       "      <td>Fabrikam Trendsetter 2/3'' 17mm X100 Black</td>\n",
       "    </tr>\n",
       "    <tr>\n",
       "      <th>901</th>\n",
       "      <td>2008-12-11</td>\n",
       "      <td>980.00</td>\n",
       "      <td>6</td>\n",
       "      <td>4,704.00</td>\n",
       "      <td>Fabrikam Trendsetter 2/3'' 17mm X100 Black</td>\n",
       "    </tr>\n",
       "    <tr>\n",
       "      <th>902</th>\n",
       "      <td>2008-12-17</td>\n",
       "      <td>999.00</td>\n",
       "      <td>6</td>\n",
       "      <td>4,795.20</td>\n",
       "      <td>Fabrikam Trendsetter 1/3'' 8.5mm X200 Black</td>\n",
       "    </tr>\n",
       "    <tr>\n",
       "      <th>903</th>\n",
       "      <td>2008-12-21</td>\n",
       "      <td>980.00</td>\n",
       "      <td>6</td>\n",
       "      <td>4,704.00</td>\n",
       "      <td>Fabrikam Trendsetter 2/3'' 17mm X100 Black</td>\n",
       "    </tr>\n",
       "  </tbody>\n",
       "</table>\n",
       "<p>904 rows × 5 columns</p>\n",
       "</div>"
      ],
      "text/plain": [
       "    Data Venda       Preço Unitário  Quantidade          Valor Venda  \\\n",
       "0   2008-05-09               758.00           6             4,548.00   \n",
       "1   2008-05-12               758.00           6             4,548.00   \n",
       "2   2008-05-14               758.00           6             4,548.00   \n",
       "3   2008-05-21               758.00           6             4,548.00   \n",
       "4   2008-06-20               758.00           6             4,548.00   \n",
       "..         ...                  ...         ...                  ...   \n",
       "899 2008-03-22               999.00           6             5,574.42   \n",
       "900 2008-10-04               980.00           6             4,704.00   \n",
       "901 2008-12-11               980.00           6             4,704.00   \n",
       "902 2008-12-17               999.00           6             4,795.20   \n",
       "903 2008-12-21               980.00           6             4,704.00   \n",
       "\n",
       "                                         Produto  \n",
       "0          Adventure Works Laptop15.4W M1548 Red  \n",
       "1          Adventure Works Laptop15.4W M1548 Red  \n",
       "2          Adventure Works Laptop15.4W M1548 Red  \n",
       "3          Adventure Works Laptop15.4W M1548 Red  \n",
       "4          Adventure Works Laptop15.4W M1548 Red  \n",
       "..                                           ...  \n",
       "899  Fabrikam Trendsetter 1/3'' 8.5mm X200 Black  \n",
       "900   Fabrikam Trendsetter 2/3'' 17mm X100 Black  \n",
       "901   Fabrikam Trendsetter 2/3'' 17mm X100 Black  \n",
       "902  Fabrikam Trendsetter 1/3'' 8.5mm X200 Black  \n",
       "903   Fabrikam Trendsetter 2/3'' 17mm X100 Black  \n",
       "\n",
       "[904 rows x 5 columns]"
      ]
     },
     "execution_count": 49,
     "metadata": {},
     "output_type": "execute_result"
    }
   ],
   "source": [
    "df[['Data Venda','Preço Unitário', 'Quantidade','Valor Venda', 'Produto']]"
   ]
  },
  {
   "cell_type": "code",
   "execution_count": 50,
   "id": "8831a75e",
   "metadata": {},
   "outputs": [
    {
     "name": "stdout",
     "output_type": "stream",
     "text": [
      "O valor da receita total é R$ 5,984,606.14\n"
     ]
    }
   ],
   "source": [
    "valor=df['Valor Venda'].sum()\n",
    "print(f'O valor da receita total é R$ {valor:,.2f}')"
   ]
  },
  {
   "cell_type": "code",
   "execution_count": 55,
   "id": "87c0be68",
   "metadata": {},
   "outputs": [
    {
     "name": "stdout",
     "output_type": "stream",
     "text": [
      "O custo total foi R$ 2,486,783.05\n"
     ]
    }
   ],
   "source": [
    "df['Custo Total']= df['Custo Unitário'].mul(df['Quantidade'])\n",
    "custo_total=df['Custo Total'].sum()\n",
    "print(f'O custo total foi R$ {custo_total:,.2f}')\n"
   ]
  },
  {
   "cell_type": "code",
   "execution_count": 69,
   "id": "04e7bd87",
   "metadata": {},
   "outputs": [],
   "source": [
    "#receita_custo=[valor,custo_total]\n",
    "#receita_custo\n",
    "receita_custo={\n",
    "    'Receita': valor,\n",
    "    'Custo Total': custo_total\n",
    "}\n"
   ]
  },
  {
   "cell_type": "code",
   "execution_count": 81,
   "id": "250166fa",
   "metadata": {},
   "outputs": [
    {
     "data": {
      "text/plain": [
       "'3.7.1'"
      ]
     },
     "execution_count": 81,
     "metadata": {},
     "output_type": "execute_result"
    }
   ],
   "source": [
    "import matplotlib as mpl\n",
    "mpl.__version__"
   ]
  },
  {
   "cell_type": "code",
   "execution_count": 100,
   "id": "3c17f3f7",
   "metadata": {},
   "outputs": [
    {
     "data": {
      "image/png": "[encoded data removed]",
      "text/plain": [
       "<Figure size 1600x800 with 1 Axes>"
      ]
     },
     "metadata": {},
     "output_type": "display_data"
    }
   ],
   "source": [
    "fig, ax = plt.subplots(figsize=(16,8))\n",
    "ax.bar(receita_custo.keys(),receita_custo.values(), color=['green', 'red'])\n",
    "ax.set_title('Receita X Custo Total', fontsize=22, fontweight='bold')\n",
    "ax.set_xticks(list(receita_custo.keys()))\n",
    "ax.set_xticklabels(list(receita_custo.keys()), fontsize=18)\n",
    "#ax.set_yticks([num for num in range(1_000_000, 7_000_000, 1_000_000)])\n",
    "#ax.set_yticklabels([num for num in range(1_000_000, 7_000_000, 1_000_000)], fontsize=18)\n",
    "ax.set_yticks([])\n",
    "ax.set_ylim([1_000_000, 6_500_000])\n",
    "ax.spines[['top','right','left']].set_visible(False)\n",
    "for i in range(len(receita_custo)):\n",
    "    ax.annotate(\n",
    "        f'R$ {list(receita_custo.values())[i]:,.2f}',# o valor que quero escrever,\n",
    "        (i, list(receita_custo.values())[i]),# coordenadas x e y\n",
    "        ha='center',# alinhamento,\n",
    "        xytext=(0,5),# posicionar o distanciamento,\n",
    "        textcoords='offset points',# informo a partir de que ponto,\n",
    "        fontsize = 16# fontsize\n",
    "    )\n",
    "plt.show()"
   ]
  },
  {
   "cell_type": "code",
   "execution_count": 88,
   "id": "7c0c4dcb",
   "metadata": {},
   "outputs": [
    {
     "data": {
      "text/plain": [
       "2"
      ]
     },
     "execution_count": 88,
     "metadata": {},
     "output_type": "execute_result"
    }
   ],
   "source": [
    "len(receita_custo)"
   ]
  },
  {
   "cell_type": "code",
   "execution_count": 46,
   "id": "ba407299",
   "metadata": {},
   "outputs": [
    {
     "data": {
      "text/plain": [
       "Index(['Data Venda', 'Data Envio', 'ID Loja', 'ID Produto', 'ID Cliente',\n",
       "       'No. Venda', 'Custo Unitário', 'Preço Unitário', 'Quantidade',\n",
       "       'Valor Desconto', 'Valor Venda', 'Produto', 'Fabricante', 'Marca',\n",
       "       'Classe', 'Cor'],\n",
       "      dtype='object')"
      ]
     },
     "execution_count": 46,
     "metadata": {},
     "output_type": "execute_result"
    }
   ],
   "source": [
    "df.columns"
   ]
  },
  {
   "cell_type": "code",
   "execution_count": 101,
   "id": "35e67579",
   "metadata": {},
   "outputs": [
    {
     "data": {
      "text/plain": [
       "3497823.0926"
      ]
     },
     "execution_count": 101,
     "metadata": {},
     "output_type": "execute_result"
    }
   ],
   "source": [
    "lucro = valor - custo_total\n",
    "lucro"
   ]
  },
  {
   "cell_type": "code",
   "execution_count": 104,
   "id": "097b4f1e",
   "metadata": {},
   "outputs": [
    {
     "name": "stdout",
     "output_type": "stream",
     "text": [
      "O lucro total foi R$ 3,497,823.09\n"
     ]
    }
   ],
   "source": [
    "receita_custo\n",
    "lucro2 = receita_custo['Receita'] - receita_custo['Custo Total']\n",
    "print(f'O lucro total foi R$ {lucro2:,.2f}')"
   ]
  },
  {
   "cell_type": "code",
   "execution_count": 118,
   "id": "b0d35641",
   "metadata": {},
   "outputs": [
    {
     "data": {
      "text/plain": [
       "0      20\n",
       "1       5\n",
       "2       6\n",
       "3       6\n",
       "4       7\n",
       "       ..\n",
       "899    13\n",
       "900    11\n",
       "901     4\n",
       "902     4\n",
       "903     4\n",
       "Name: Tempo Envio, Length: 904, dtype: int64"
      ]
     },
     "execution_count": 118,
     "metadata": {},
     "output_type": "execute_result"
    }
   ],
   "source": [
    "df['Tempo Envio']= df['Data Envio'].sub(df['Data Venda'])\n",
    "#df['Tempo Envio'].describe()\n",
    "df['Tempo Envio'] = df['Tempo Envio'].dt.days\n",
    "df['Tempo Envio']"
   ]
  },
  {
   "cell_type": "code",
   "execution_count": 121,
   "id": "de43b372",
   "metadata": {},
   "outputs": [
    {
     "data": {
      "text/html": [
       "<div>\n",
       "<style scoped>\n",
       "    .dataframe tbody tr th:only-of-type {\n",
       "        vertical-align: middle;\n",
       "    }\n",
       "\n",
       "    .dataframe tbody tr th {\n",
       "        vertical-align: top;\n",
       "    }\n",
       "\n",
       "    .dataframe thead th {\n",
       "        text-align: right;\n",
       "    }\n",
       "</style>\n",
       "<table border=\"1\" class=\"dataframe\">\n",
       "  <thead>\n",
       "    <tr style=\"text-align: right;\">\n",
       "      <th></th>\n",
       "      <th>mean</th>\n",
       "    </tr>\n",
       "    <tr>\n",
       "      <th>Marca</th>\n",
       "      <th></th>\n",
       "    </tr>\n",
       "  </thead>\n",
       "  <tbody>\n",
       "    <tr>\n",
       "      <th>Adventure Works</th>\n",
       "      <td>8.66</td>\n",
       "    </tr>\n",
       "    <tr>\n",
       "      <th>Contoso</th>\n",
       "      <td>8.47</td>\n",
       "    </tr>\n",
       "    <tr>\n",
       "      <th>Fabrikam</th>\n",
       "      <td>8.51</td>\n",
       "    </tr>\n",
       "  </tbody>\n",
       "</table>\n",
       "</div>"
      ],
      "text/plain": [
       "                                mean\n",
       "Marca                               \n",
       "Adventure Works                 8.66\n",
       "Contoso                         8.47\n",
       "Fabrikam                        8.51"
      ]
     },
     "execution_count": 121,
     "metadata": {},
     "output_type": "execute_result"
    }
   ],
   "source": [
    "df.groupby(['Marca'])['Tempo Envio'].agg(['mean']) \n",
    "#df.groupby(['Marca'])['Tempo Envio'].mean() "
   ]
  },
  {
   "cell_type": "code",
   "execution_count": 123,
   "id": "f25c6978",
   "metadata": {},
   "outputs": [
    {
     "data": {
      "text/plain": [
       "Data Venda        0\n",
       "Data Envio        0\n",
       "ID Loja           0\n",
       "ID Produto        0\n",
       "ID Cliente        0\n",
       "No. Venda         0\n",
       "Custo Unitário    0\n",
       "Preço Unitário    0\n",
       "Quantidade        0\n",
       "Valor Desconto    0\n",
       "Valor Venda       0\n",
       "Produto           0\n",
       "Fabricante        0\n",
       "Marca             0\n",
       "Classe            0\n",
       "Cor               0\n",
       "Custo Total       0\n",
       "Tempo Envio       0\n",
       "dtype: int64"
      ]
     },
     "execution_count": 123,
     "metadata": {},
     "output_type": "execute_result"
    }
   ],
   "source": [
    "df.isna().sum()"
   ]
  },
  {
   "cell_type": "code",
   "execution_count": 127,
   "id": "6e59a44a",
   "metadata": {},
   "outputs": [],
   "source": [
    "df['Lucro Total']= df['Valor Venda'].sub(df['Preço Unitário'])"
   ]
  },
  {
   "cell_type": "code",
   "execution_count": 130,
   "id": "d53dd676",
   "metadata": {},
   "outputs": [],
   "source": [
    "# df[['Custo Unitário', 'Quantidade', 'Custo Total', 'Preço Unitário', 'Quantidade', 'Valor Venda']]\n",
    "df['Lucro Total'] = df['Valor Venda'].sub(df['Custo Total'])"
   ]
  },
  {
   "cell_type": "code",
   "execution_count": 135,
   "id": "aade4ef0",
   "metadata": {},
   "outputs": [
    {
     "data": {
      "text/html": [
       "<div>\n",
       "<style scoped>\n",
       "    .dataframe tbody tr th:only-of-type {\n",
       "        vertical-align: middle;\n",
       "    }\n",
       "\n",
       "    .dataframe tbody tr th {\n",
       "        vertical-align: top;\n",
       "    }\n",
       "\n",
       "    .dataframe thead th {\n",
       "        text-align: right;\n",
       "    }\n",
       "</style>\n",
       "<table border=\"1\" class=\"dataframe\">\n",
       "  <thead>\n",
       "    <tr style=\"text-align: right;\">\n",
       "      <th></th>\n",
       "      <th></th>\n",
       "      <th>sum</th>\n",
       "    </tr>\n",
       "    <tr>\n",
       "      <th>Data Venda</th>\n",
       "      <th>Marca</th>\n",
       "      <th></th>\n",
       "    </tr>\n",
       "  </thead>\n",
       "  <tbody>\n",
       "    <tr>\n",
       "      <th rowspan=\"3\" valign=\"top\">2008</th>\n",
       "      <th>Adventure Works</th>\n",
       "      <td>306,641.16</td>\n",
       "    </tr>\n",
       "    <tr>\n",
       "      <th>Contoso</th>\n",
       "      <td>56,416.00</td>\n",
       "    </tr>\n",
       "    <tr>\n",
       "      <th>Fabrikam</th>\n",
       "      <td>1,557,020.55</td>\n",
       "    </tr>\n",
       "    <tr>\n",
       "      <th rowspan=\"3\" valign=\"top\">2009</th>\n",
       "      <th>Adventure Works</th>\n",
       "      <td>405,395.08</td>\n",
       "    </tr>\n",
       "    <tr>\n",
       "      <th>Contoso</th>\n",
       "      <td>138,258.95</td>\n",
       "    </tr>\n",
       "    <tr>\n",
       "      <th>Fabrikam</th>\n",
       "      <td>1,034,091.35</td>\n",
       "    </tr>\n",
       "  </tbody>\n",
       "</table>\n",
       "</div>"
      ],
      "text/plain": [
       "                                            sum\n",
       "Data Venda Marca                               \n",
       "2008       Adventure Works           306,641.16\n",
       "           Contoso                    56,416.00\n",
       "           Fabrikam                1,557,020.55\n",
       "2009       Adventure Works           405,395.08\n",
       "           Contoso                   138,258.95\n",
       "           Fabrikam                1,034,091.35"
      ]
     },
     "execution_count": 135,
     "metadata": {},
     "output_type": "execute_result"
    }
   ],
   "source": [
    "df.groupby([df['Data Venda'].dt.year, 'Marca'])['Lucro Total'].agg(['sum']) "
   ]
  },
  {
   "cell_type": "code",
   "execution_count": 136,
   "id": "5a089a18",
   "metadata": {},
   "outputs": [
    {
     "data": {
      "text/html": [
       "<div>\n",
       "<style scoped>\n",
       "    .dataframe tbody tr th:only-of-type {\n",
       "        vertical-align: middle;\n",
       "    }\n",
       "\n",
       "    .dataframe tbody tr th {\n",
       "        vertical-align: top;\n",
       "    }\n",
       "\n",
       "    .dataframe thead th {\n",
       "        text-align: right;\n",
       "    }\n",
       "</style>\n",
       "<table border=\"1\" class=\"dataframe\">\n",
       "  <thead>\n",
       "    <tr style=\"text-align: right;\">\n",
       "      <th></th>\n",
       "      <th></th>\n",
       "      <th>sum</th>\n",
       "    </tr>\n",
       "    <tr>\n",
       "      <th>Marca</th>\n",
       "      <th>Data Venda</th>\n",
       "      <th></th>\n",
       "    </tr>\n",
       "  </thead>\n",
       "  <tbody>\n",
       "    <tr>\n",
       "      <th rowspan=\"2\" valign=\"top\">Adventure Works</th>\n",
       "      <th>2008</th>\n",
       "      <td>306,641.16</td>\n",
       "    </tr>\n",
       "    <tr>\n",
       "      <th>2009</th>\n",
       "      <td>405,395.08</td>\n",
       "    </tr>\n",
       "    <tr>\n",
       "      <th rowspan=\"2\" valign=\"top\">Contoso</th>\n",
       "      <th>2008</th>\n",
       "      <td>56,416.00</td>\n",
       "    </tr>\n",
       "    <tr>\n",
       "      <th>2009</th>\n",
       "      <td>138,258.95</td>\n",
       "    </tr>\n",
       "    <tr>\n",
       "      <th rowspan=\"2\" valign=\"top\">Fabrikam</th>\n",
       "      <th>2008</th>\n",
       "      <td>1,557,020.55</td>\n",
       "    </tr>\n",
       "    <tr>\n",
       "      <th>2009</th>\n",
       "      <td>1,034,091.35</td>\n",
       "    </tr>\n",
       "  </tbody>\n",
       "</table>\n",
       "</div>"
      ],
      "text/plain": [
       "                                            sum\n",
       "Marca           Data Venda                     \n",
       "Adventure Works 2008                 306,641.16\n",
       "                2009                 405,395.08\n",
       "Contoso         2008                  56,416.00\n",
       "                2009                 138,258.95\n",
       "Fabrikam        2008               1,557,020.55\n",
       "                2009               1,034,091.35"
      ]
     },
     "execution_count": 136,
     "metadata": {},
     "output_type": "execute_result"
    }
   ],
   "source": [
    "df.groupby(['Marca', df['Data Venda'].dt.year])['Lucro Total'].agg(['sum']) "
   ]
  },
  {
   "cell_type": "code",
   "execution_count": 146,
   "id": "5102fb2a",
   "metadata": {},
   "outputs": [
    {
     "name": "stdout",
     "output_type": "stream",
     "text": [
      "32.21%\n"
     ]
    }
   ],
   "source": [
    "df2 = df.groupby(['Marca', df['Data Venda'].dt.year])['Lucro Total'].agg(['sum']).reset_index()\n",
    "df2\n",
    "percent = df2['sum'][1] / df2['sum'][0] - 1\n",
    "print(f'{percent:.2%}')"
   ]
  },
  {
   "cell_type": "code",
   "execution_count": 133,
   "id": "0cfad66f",
   "metadata": {},
   "outputs": [
    {
     "name": "stdout",
     "output_type": "stream",
     "text": [
      "Lucro do ano 2009 = R$1_577_745,38\n"
     ]
    }
   ],
   "source": [
    "a= f'Lucro do ano 2009 = R${df.loc[df[\"Data Venda\"].dt.year==2009][\"Lucro Total\"].sum():_.2f}'\n",
    "print(f'{a.translate(a.maketrans({\".\": \",\", \",\": \".\"}))}')"
   ]
  },
  {
   "cell_type": "code",
   "execution_count": 147,
   "id": "ff9f43be",
   "metadata": {},
   "outputs": [
    {
     "data": {
      "text/plain": [
       "56907"
      ]
     },
     "execution_count": 147,
     "metadata": {},
     "output_type": "execute_result"
    }
   ],
   "source": [
    "df['Quantidade'].sum()"
   ]
  },
  {
   "cell_type": "code",
   "execution_count": 171,
   "id": "8aca3674",
   "metadata": {},
   "outputs": [
    {
     "data": {
      "text/plain": [
       "Produto\n",
       "Fabrikam Trendsetter 1/3'' 8.5mm X200 White          789\n",
       "Fabrikam Trendsetter 1/3'' 8.5mm X200 Grey           845\n",
       "Fabrikam Trendsetter 1/3'' 8.5mm X200 Black          884\n",
       "Fabrikam Trendsetter 2/3'' 17mm X100 Black           926\n",
       "Adventure Works Laptop15.4W M1548 Red               1047\n",
       "Fabrikam Trendsetter 2/3'' 17mm X100 Grey           1087\n",
       "Adventure Works Laptop15.4W M1548 Black             1089\n",
       "Headphone Adapter for Contoso Phone E130 White     25008\n",
       "Headphone Adapter for Contoso Phone E130 Silver    25232\n",
       "Name: Quantidade, dtype: int64"
      ]
     },
     "execution_count": 171,
     "metadata": {},
     "output_type": "execute_result"
    }
   ],
   "source": [
    "# df3=df.groupby(df['Produto'])['Quantidade'].agg(['sum']).sort_values(by='sum')\n",
    "df3 = df.groupby(df['Produto'])['Quantidade'].sum().sort_values(ascending=True)\n",
    "df3"
   ]
  },
  {
   "cell_type": "code",
   "execution_count": 173,
   "id": "31d0327f",
   "metadata": {},
   "outputs": [
    {
     "data": {
      "image/png": "[encoded data removed]",
      "text/plain": [
       "<Figure size 1600x800 with 1 Axes>"
      ]
     },
     "metadata": {},
     "output_type": "display_data"
    }
   ],
   "source": [
    "fig, ax = plt.subplots(figsize=(16,8))\n",
    "ax.barh(df3.index, df3.values)\n",
    "# ax.invert_yaxis()\n",
    "plt.show()"
   ]
  },
  {
   "cell_type": "code",
   "execution_count": 175,
   "id": "de15e11e",
   "metadata": {},
   "outputs": [
    {
     "name": "stdout",
     "output_type": "stream",
     "text": [
      " O volume na unidade C nÆo tem nome.\n",
      " O N£mero de S‚rie do Volume ‚ A278-2276\n",
      "\n",
      " Pasta de C:\\Users\\professor\\rafael\n",
      "\n",
      "04/03/2023  21:29    <DIR>          .\n",
      "04/03/2023  21:29    <DIR>          ..\n",
      "04/03/2023  21:29    <DIR>          .ipynb_checkpoints\n",
      "21/01/2023  12:59             1.003 atividade01.py\n",
      "04/03/2023  18:57    <DIR>          CLARA\n",
      "04/03/2023  11:32                75 conn.py\n",
      "04/03/2023  10:38    <DIR>          CRUD\n",
      "04/03/2023  13:07             2.269 crud01.py\n",
      "04/03/2023  15:17               178 ex01.py\n",
      "04/03/2023  15:32               384 ex02.py\n",
      "21/01/2023  11:29               687 exemplo01.py\n",
      "04/03/2023  21:29           200.564 Notebook da Aula.ipynb\n",
      "04/03/2023  18:40               261 sorteio.py\n",
      "21/01/2023  13:15                84 teste.py\n",
      "               9 arquivo(s)        205.505 bytes\n",
      "               5 pasta(s)   29.196.242.944 bytes dispon¡veis\n"
     ]
    }
   ],
   "source": [
    "!dir"
   ]
  }
 ],
 "metadata": {
  "kernelspec": {
   "display_name": "Python 3 (ipykernel)",
   "language": "python",
   "name": "python3"
  },
  "language_info": {
   "codemirror_mode": {
    "name": "ipython",
    "version": 3
   },
   "file_extension": ".py",
   "mimetype": "text/x-python",
   "name": "python",
   "nbconvert_exporter": "python",
   "pygments_lexer": "ipython3",
   "version": "3.11.1"
  }
 },
 "nbformat": 4,
 "nbformat_minor": 5
}
