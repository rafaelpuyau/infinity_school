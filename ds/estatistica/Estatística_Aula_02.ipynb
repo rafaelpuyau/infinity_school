{
  "nbformat": 4,
  "nbformat_minor": 0,
  "metadata": {
    "colab": {
      "provenance": [],
      "toc_visible": true
    },
    "kernelspec": {
      "name": "python3",
      "display_name": "Python 3"
    },
    "language_info": {
      "name": "python"
    }
  },
  "cells": [
    {
      "cell_type": "markdown",
      "source": [
        "## Seguindo nossa trilha em **Estatística**"
      ],
      "metadata": {
        "id": "SGKQmITWVfiF"
      }
    },
    {
      "cell_type": "markdown",
      "source": [
        "Hoje veremos:\n",
        "\n",
        "* Medidas de tendência central\n",
        "* Medidas de dispersão\n",
        "* Medidas de posição"
      ],
      "metadata": {
        "id": "NY7vjFOmVm5_"
      }
    },
    {
      "cell_type": "markdown",
      "source": [
        "### Medidas de tendência central"
      ],
      "metadata": {
        "id": "Vmd716dhV0wD"
      }
    },
    {
      "cell_type": "markdown",
      "source": [
        "**Mas o que são?**\n",
        "\n",
        "São medidas que mostram o \"centro\" dos dados de diversas formas. \n",
        "\n",
        "Um exemplo é pensarmos na média de determinados valores. Claro que não podemos nos esquecer que o centro, também, pode ser o _centro geométrico_.\n",
        "\n",
        "**Ex**: divisão de comidas entre irmãos...rs\n",
        "\n",
        "Ainda podemos pensar sobre o elemento central, como sendo o valor que mais aparece nos dados\n",
        "\n",
        "**E quem são?** \n",
        "\n",
        "* Média (mean) : soma dos valores dividido pelo total \n",
        "* Mediana (median) : valor que está no centro \"espacial\" ou \"geométrico\" dos valores\n",
        "* Moda (mode) : valor que aparece com maior frequência nos dados\n",
        "\n",
        "Vamos trabalhar com o módulo `statistics` do __Python__, assim:\n",
        "\n",
        "```\n",
        "from statistics import (\n",
        "  mean,\n",
        "  median,\n",
        "  mode\n",
        ")\n",
        "```\n",
        "\n",
        "**OBS:** tenho um __SPOILER__ sobre a _moda_ (`mode`). Se você estiver lendo este material em casa, contarei em sala de aula, mas você estiver em sala de aula, vou contar AGORA! \n",
        "\n",
        "Maaaas, se você já assisiu a aula, deve se lembrar não é?? \n",
        "\n",
        "__VALE LEMBRAR__:\n",
        "\n",
        "> Conhecer essas medidas é __essencial__ para entender melhor nossos dados!\n",
        "\n",
        "**Ex**: No tratamento de dados faltantes, por exemplo, parte essencial da modelagem preditiva, usamos estas medidas para o input dos valores\n",
        "\n",
        "**Outro exemplo**: é no tratamento de __outliers__, saber que esses valores \"_fora da curva_\" influenciam **MUITO** a _média_, porém, não influenciam a _mediana_"
      ],
      "metadata": {
        "id": "jmZTfvSLWR3C"
      }
    },
    {
      "cell_type": "markdown",
      "source": [
        "#### Exemplos práticos"
      ],
      "metadata": {
        "id": "1WGLrUx8c_o3"
      }
    },
    {
      "cell_type": "code",
      "source": [
        "from statistics import (\n",
        "    mean,\n",
        "    median,\n",
        "    mode,\n",
        "    multimode\n",
        ")"
      ],
      "metadata": {
        "id": "zNLKDbkwfZEB"
      },
      "execution_count": 1,
      "outputs": []
    },
    {
      "cell_type": "code",
      "source": [
        "idades = [31, 35, 36, 39, 41, 41, 42, 43, 45, 47, 47, 48, 48, 52, 52, 52, 54, 56, 56, 58, 115]\n",
        "\n",
        "# Vamos calcular a média\n",
        "print(f'Média: {int(mean(idades))}')\n",
        "\n",
        "# Vamos calular a mediana\n",
        "print(f'Mediana: {median(idades)}')\n",
        "\n",
        "# Vamos calcular a mediana de uma lista com quantidade par de elementos\n",
        "# print(len(idades))\n",
        "\n",
        "# Vamos calcular a moda \n",
        "print(f'Moda: {mode(idades)}')\n",
        "\n",
        "# Vamos calcular a moda para elementos que mais aparecem\n",
        "print(f'Modas: {multimode(idades)}')"
      ],
      "metadata": {
        "colab": {
          "base_uri": "https://localhost:8080/"
        },
        "id": "RAJwS6d9dDSd",
        "outputId": "2642b6d2-fd0f-4609-cad5-2bda49c0ef80"
      },
      "execution_count": 3,
      "outputs": [
        {
          "output_type": "stream",
          "name": "stdout",
          "text": [
            "Média: 49\n",
            "Mediana: 47\n",
            "Moda: 52\n",
            "Modas: [52]\n"
          ]
        }
      ]
    },
    {
      "cell_type": "markdown",
      "source": [
        "> A __mediana__ não liga para _outliers_, pois ela sempre olhará para a posição central e, claro, não é influenciada por eles\n",
        "\n",
        "> De forma semelhante, a __moda__ não liga para os valores _outliers_, pois conta o número de ocorrências dos dados"
      ],
      "metadata": {
        "id": "MRIGUTnceENK"
      }
    },
    {
      "cell_type": "markdown",
      "source": [
        "**Média Salarial**\n",
        "\n",
        "* Empresa A : R$8.400,00\n",
        "\n",
        "* Empresa B : R$3.487,50"
      ],
      "metadata": {
        "id": "SghIMZ0ifxxT"
      }
    },
    {
      "cell_type": "code",
      "source": [
        "# Exemplo clássico de salário\n",
        "from statistics import (\n",
        "    mean,\n",
        "    median\n",
        ")\n",
        "\n",
        "empresa_a = [1200, 1500, 1700, 2200, 3000, 3500, 4100, 50000]\n",
        "empresa_b = [2000, 2300, 2500, 2900, 3500, 4200, 4800, 5700]\n",
        "\n",
        "# display(mean(empresa_a))\n",
        "# display(mean(empresa_b))\n",
        "# display(median(empresa_a))\n",
        "# display(median(empresa_b))"
      ],
      "metadata": {
        "id": "huMFeO86epXZ"
      },
      "execution_count": null,
      "outputs": []
    },
    {
      "cell_type": "markdown",
      "source": [
        "### Medidas de dispersão"
      ],
      "metadata": {
        "id": "qHbebKscV5lO"
      }
    },
    {
      "cell_type": "markdown",
      "source": [
        "Agora que acabamos de conhecer as medidas de tendência central, é importante, também, conhecermos o quão dispersos estão nossos dados.\n",
        "\n",
        "Vamos pensar em alguns exemplos?\n",
        "\n",
        "* Time de futebol\n",
        "\n",
        "* Colaboradores de um departamento de TI\n",
        "\n",
        "* Crianças do 6º ano do ensino fundamental\n",
        "\n",
        "* Pessoas numa praça\n",
        "\n",
        "__OBS__: olhando para as idades, ok?\n",
        "\n",
        "Repare que somente com as medidas de tendência central, podemos perder muitas informações valiosas de como nossos dados estão se comportando"
      ],
      "metadata": {
        "id": "7qlpeq6DgYQX"
      }
    },
    {
      "cell_type": "code",
      "source": [
        "from statistics import (\n",
        "    mean,\n",
        "    median\n",
        ")\n",
        "\n",
        "# Numa praça\n",
        "praca = [6, 10, 11, 15, 16, 19, 22, 25, 27, 27, 29, 40, 40, 40, 50, 60, 65, 67, 76, 77]\n",
        "print(f'Praça: {round(mean(praca),1)}')\n",
        "\n",
        "# Num time de futebol\n",
        "vascao = [20, 21, 21, 22, 22, 23, 24, 24, 24, 25, 25, 25, 27, 28, 28, 29, 29, 29, 29, 30]\n",
        "print(f'Vascão: {round(mean(vascao),1)}')"
      ],
      "metadata": {
        "colab": {
          "base_uri": "https://localhost:8080/"
        },
        "id": "LQP32Np3hqsi",
        "outputId": "aa20d18d-c61e-4d64-e6bd-a75b16ee9c14"
      },
      "execution_count": null,
      "outputs": [
        {
          "output_type": "stream",
          "name": "stdout",
          "text": [
            "Praça: 36.1\n",
            "Vascão: 25.2\n"
          ]
        }
      ]
    },
    {
      "cell_type": "markdown",
      "source": [
        "Repare como as médias não são muito distantes, vamos lá, seja legal e concorde! :-P \n",
        "\n",
        "Porém as idades variam muito na amostra da praça em relação a amostra do time titular do Vascão.\n",
        "\n",
        "E é aí que as _medidas de dispersão_ entram em ação, para calcular esta diferença. As principais medidas de dispersão são a variância, desvio padrão e o coeficiente de variação.\n",
        "\n",
        "* __Variância__ : calcula a dispersão dos dados em volta da média. Então, para calcularmos a _variância_ devemos calcular a média antes. \n",
        "\n",
        "__OBS__: a variância se dá pela soma do quadrado da diferença de cada valor nos dados com a média, dividido pelo total de observações.\n",
        "\n",
        "![formula_variancia.webp](data:image/webp;base64,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)"
      ],
      "metadata": {
        "id": "GtsnLU9ziy3C"
      }
    },
    {
      "cell_type": "code",
      "source": [
        "from statistics import variance\n",
        "\n",
        "# Numa praça\n",
        "praca = [6, 10, 11, 15, 16, 19, 22, 25, 27, 27, 29, 40, 40, 40, 50, 60, 65, 67, 76, 77]\n",
        "print(f'Praça: Média={round(mean(praca),1)}')\n",
        "print(f'Praça: Variância:{round(variance(praca),2)}')\n",
        "\n",
        "# Num time de futebol\n",
        "vascao = [20, 21, 21, 22, 22, 23, 24, 24, 24, 25, 25, 25, 27, 28, 28, 29, 29, 29, 29, 30]\n",
        "print(f'Vascão: Média={round(mean(vascao),1)}')\n",
        "print(f'Vascão: Variância={round(variance(vascao),2)}') "
      ],
      "metadata": {
        "colab": {
          "base_uri": "https://localhost:8080/"
        },
        "id": "PqjZTGQdkkqw",
        "outputId": "e04fc367-58cf-488c-e85d-0b1e26d86808"
      },
      "execution_count": null,
      "outputs": [
        {
          "output_type": "stream",
          "name": "stdout",
          "text": [
            "Praça: Média=36.1\n",
            "Praça: Variância:513.78\n",
            "Vascão: Média=25.2\n",
            "Vascão: Variância=10.09\n"
          ]
        }
      ]
    },
    {
      "cell_type": "markdown",
      "source": [
        "__Variância__ calcula a dispersão dos dados em volta da média, ou seja, quanto mais perto da média os valores são, menor é a variância.\n",
        "\n",
        "Quanto mais longe os valores são da média, maior é a variância."
      ],
      "metadata": {
        "id": "H68IrEdpWGmD"
      }
    },
    {
      "cell_type": "markdown",
      "source": [
        "__Desvio padrão__ : é a raiz quadrada da variância. Os valores ficam muito mais próximos das unidades reais que estamos medindo.\n",
        "\n"
      ],
      "metadata": {
        "id": "iBDUgWhY5hI7"
      }
    },
    {
      "cell_type": "code",
      "source": [
        "from statistics import (\n",
        "    mean,\n",
        "    variance,\n",
        "    stdev\n",
        ")\n",
        "\n",
        "# Numa praça\n",
        "praca = [6, 10, 11, 15, 16, 19, 22, 25, 27, 27, 29, 40, 40, 40, 50, 60, 65, 67, 76, 77]\n",
        "print(f'Praça: Média:{round(mean(praca),1)}')\n",
        "print(f'Praça: Variância:{round(variance(praca),2)}')\n",
        "print(f'Parça: Desvio padrão:{round(stdev(praca),2)}')\n",
        "\n",
        "# Num time de futebol\n",
        "vascao = [20, 21, 21, 22, 22, 23, 24, 24, 24, 25, 25, 25, 27, 28, 28, 29, 29, 29, 29, 30]\n",
        "print(f'Vascão: Média:{round(mean(vascao),1)}')\n",
        "print(f'Vascão: Variância:{round(variance(vascao),2)}')\n",
        "print(f'Vascão: Desvio padrão:{round(stdev(vascao),2)}')"
      ],
      "metadata": {
        "colab": {
          "base_uri": "https://localhost:8080/"
        },
        "id": "vL20nPjR543A",
        "outputId": "386e9273-5f88-47c8-a2ca-e46510e94614"
      },
      "execution_count": null,
      "outputs": [
        {
          "output_type": "stream",
          "name": "stdout",
          "text": [
            "Praça: Média=36.1\n",
            "Praça: Variância:513.78\n",
            "Parça: Desvio padrão:22.67\n",
            "Vascão: Média=25.2\n",
            "Vascão: Variância=10.09\n",
            "Vascão: Desvio padrão:3.18\n"
          ]
        }
      ]
    },
    {
      "cell_type": "markdown",
      "source": [
        "__Coeficiente de variação__ : é o cálculo do desvio padrão pela média\n",
        "\n",
        "> É como se fosse uma medida relativa e dispersão e é muito útil para comparar bases com valores diferentes\n",
        "\n",
        "O coeficiente de variação faz uma medida relativa à própria média para que essa comparação seja mais fácil"
      ],
      "metadata": {
        "id": "sl0B2i_O6bp8"
      }
    },
    {
      "cell_type": "code",
      "source": [
        "from statistics import (\n",
        "    stdev,\n",
        "    mean\n",
        ")\n",
        "\n",
        "# Preços de hamburgueres\n",
        "dolares = [4, 2, 4, 1, 4, 4, 4, 4, 1, 1]\n",
        "reais = [20, 10, 20, 5, 20, 20, 20, 20, 5, 5]\n",
        "\n",
        "cv = lambda x: stdev(x) / mean(x)\n",
        "\n",
        "print(f'Desvio padrão [dólares]: {round(stdev(dolares),2)}')\n",
        "print(f'Desvio padrão [reais]: {round(stdev(reais),2)}')\n",
        "\n",
        "print(f'Coeficiente de variação [dólares]: {cv(dolares):.4f}')\n",
        "print(f'Coeficiente de variação [reais]: {cv(reais):.4f}')\n"
      ],
      "metadata": {
        "colab": {
          "base_uri": "https://localhost:8080/"
        },
        "id": "-2G9OEUw8fFu",
        "outputId": "550f415d-6671-420a-8b12-cb708eea1399"
      },
      "execution_count": null,
      "outputs": [
        {
          "output_type": "stream",
          "name": "stdout",
          "text": [
            "Desvio padrão [dólares]: 1.45\n",
            "Desvio padrão [reais]: 7.25\n",
            "Coeficiente de variação [dólares]: 0.4997\n",
            "Coeficiente de variação [reais]: 0.4997\n"
          ]
        }
      ]
    },
    {
      "cell_type": "markdown",
      "source": [
        "### Medidas de posição"
      ],
      "metadata": {
        "id": "C8795BicV8e9"
      }
    },
    {
      "cell_type": "markdown",
      "source": [
        "Além das já conhecidas medidas de tendência central (média, mediana e moda), existem outras medidas de posição.\n",
        "\n",
        "As _separatrizes_ são os cortes que separam nossos dados em partes iguais\n",
        "\n",
        "> A __mediana__ é uma separatriz que divide os dados em duas partes iguais (com a mesma quantidade de elementos)\n",
        "\n",
        "Mas ainda temos: \n",
        "\n",
        "* os quartis\n",
        "* os decis \n",
        "* os percentis"
      ],
      "metadata": {
        "id": "nRnPKxOVVc6z"
      }
    },
    {
      "cell_type": "markdown",
      "source": [
        "### Exemplo prático"
      ],
      "metadata": {
        "id": "YZYIaf6DsBgT"
      }
    },
    {
      "cell_type": "code",
      "source": [
        "from random import shuffle\n",
        "from statistics import median\n",
        "\n",
        "numeros = [2, 3, 3, 5, 5, 8, 13, 18, 21, 23, 25, 26, 29, 32, 34, 36, 40, 40, 45, 50, 50]\n",
        "shuffle(numeros)\n",
        "print('Valores embaralhados')\n",
        "print(numeros)\n",
        "\n",
        "print('Valores ordenados')\n",
        "numeros.sort()\n",
        "print(numeros)\n",
        "\n",
        "print(f'Mediana: {median(numeros)}')"
      ],
      "metadata": {
        "colab": {
          "base_uri": "https://localhost:8080/"
        },
        "id": "EpJqKIFbsNRs",
        "outputId": "383178ee-8745-4e35-faaa-fc092da3154d"
      },
      "execution_count": null,
      "outputs": [
        {
          "output_type": "stream",
          "name": "stdout",
          "text": [
            "Valores embaralhados\n",
            "[3, 13, 2, 32, 21, 34, 50, 25, 5, 5, 26, 3, 8, 29, 50, 23, 40, 36, 45, 40, 18]\n",
            "Valores ordenados\n",
            "[2, 3, 3, 5, 5, 8, 13, 18, 21, 23, 25, 26, 29, 32, 34, 36, 40, 40, 45, 50, 50]\n",
            "Mediana: 25\n"
          ]
        }
      ]
    },
    {
      "cell_type": "code",
      "source": [
        "numeros = [2, 3, 3, 5, 5, 8, 13, 18, 21, 23, 25, 26, 29, 32, 34, 36, 40, 40, 45, 50, 50]\n",
        "len(numeros)"
      ],
      "metadata": {
        "colab": {
          "base_uri": "https://localhost:8080/"
        },
        "id": "vJ5nlArZtt3a",
        "outputId": "314d6fbd-e05e-4740-d69a-19d0543bb487"
      },
      "execution_count": null,
      "outputs": [
        {
          "output_type": "execute_result",
          "data": {
            "text/plain": [
              "21"
            ]
          },
          "metadata": {},
          "execution_count": 44
        }
      ]
    },
    {
      "cell_type": "code",
      "source": [
        "numeros = [2, 3, 3, 5, 5, 8, 13, 18, 21, 23, 25, 26, 29, 32, 34, 36, 40, 40, 45, 50, 50]\n",
        "\n",
        "# Mediana 25\n",
        "# 1º quartil 5\n",
        "# 2º quartil ou mediana 25\n",
        "# 3º quartil 36\n",
        "\n",
        "# 1º decil 3\n",
        "# 2º decil entre os 2 cincos\n",
        "# 3º decil 13\n",
        "# 4º decil 21\n",
        "# 5º decil ou mediana 25\n",
        "# 6º decil 29\n",
        "# 7º decil 34\n",
        "# 8º decil 40\n",
        "# 9º decil 45"
      ],
      "metadata": {
        "id": "56y2lhrp_m75"
      },
      "execution_count": null,
      "outputs": []
    },
    {
      "cell_type": "markdown",
      "source": [
        "> Importante das medidas de posição é entender que as separações são \"geométricas\"\n",
        "\n",
        "Logo, _média_, _valores altos ou baixos_, nada disso importa, a posição de \"corte\" é a única coisa que a separatriz consegue enxergar.\n",
        "\n",
        "> Para a Ciência de Dados é importante saber interpretar as separatrizes\n",
        "\n",
        "Assim, desta forma temos: \n",
        "\n",
        "* A mediana separa os dados na metade, ou seja, 50% dos valores são acima da mediana e 50% são abaixo dela\n",
        "\n",
        "* A mediana é, também, conhecida como o 2º quartil e o 5º decil e o 50º percentil, pois ela separa os dados ao meio\n",
        "\n",
        "* As separatrizes dividem os dados em partes iguais sendo:\n",
        "\n",
        "  * __quartis__ : separa os dados em 4 partes iguais\n",
        "  * __decis__ : separa os dados em 10 partes iguais \n",
        "  * __percentis__ : separa os dados em 100 partes iguais\n",
        "  "
      ],
      "metadata": {
        "id": "f_NyOZ_VAoJk"
      }
    },
    {
      "cell_type": "markdown",
      "source": [
        "## Atividade prática"
      ],
      "metadata": {
        "id": "sfzhHP5Orbvg"
      }
    },
    {
      "cell_type": "markdown",
      "source": [
        "### Dataset __Wine Billing__"
      ],
      "metadata": {
        "id": "spXdT7wSrmuF"
      }
    },
    {
      "cell_type": "code",
      "source": [
        "import pandas as pd"
      ],
      "metadata": {
        "id": "cclzJBR5u-78"
      },
      "execution_count": null,
      "outputs": []
    },
    {
      "cell_type": "code",
      "source": [
        "dataset = r'https://raw.githubusercontent.com/rafaelpuyau/infinity_school/main/ds/datasets/wine_billing.csv'\n",
        "df = pd.read_csv(dataset, sep=';')\n",
        "df.head(2)"
      ],
      "metadata": {
        "colab": {
          "base_uri": "https://localhost:8080/",
          "height": 112
        },
        "id": "LDzenbI6vA57",
        "outputId": "ee3163cf-1877-4dc3-8e8c-3000e2cc20d8"
      },
      "execution_count": null,
      "outputs": [
        {
          "output_type": "execute_result",
          "data": {
            "text/plain": [
              "         data  estilo  quantidade de garrafas  preço da garrafa\n",
              "0  2021-11-01   tinto                       7            219.69\n",
              "1  2021-11-01  branco                       4            118.83"
            ],
            "text/html": [
              "\n",
              "  <div id=\"df-92eefdec-9877-438f-9366-59e2413dc645\">\n",
              "    <div class=\"colab-df-container\">\n",
              "      <div>\n",
              "<style scoped>\n",
              "    .dataframe tbody tr th:only-of-type {\n",
              "        vertical-align: middle;\n",
              "    }\n",
              "\n",
              "    .dataframe tbody tr th {\n",
              "        vertical-align: top;\n",
              "    }\n",
              "\n",
              "    .dataframe thead th {\n",
              "        text-align: right;\n",
              "    }\n",
              "</style>\n",
              "<table border=\"1\" class=\"dataframe\">\n",
              "  <thead>\n",
              "    <tr style=\"text-align: right;\">\n",
              "      <th></th>\n",
              "      <th>data</th>\n",
              "      <th>estilo</th>\n",
              "      <th>quantidade de garrafas</th>\n",
              "      <th>preço da garrafa</th>\n",
              "    </tr>\n",
              "  </thead>\n",
              "  <tbody>\n",
              "    <tr>\n",
              "      <th>0</th>\n",
              "      <td>2021-11-01</td>\n",
              "      <td>tinto</td>\n",
              "      <td>7</td>\n",
              "      <td>219.69</td>\n",
              "    </tr>\n",
              "    <tr>\n",
              "      <th>1</th>\n",
              "      <td>2021-11-01</td>\n",
              "      <td>branco</td>\n",
              "      <td>4</td>\n",
              "      <td>118.83</td>\n",
              "    </tr>\n",
              "  </tbody>\n",
              "</table>\n",
              "</div>\n",
              "      <button class=\"colab-df-convert\" onclick=\"convertToInteractive('df-92eefdec-9877-438f-9366-59e2413dc645')\"\n",
              "              title=\"Convert this dataframe to an interactive table.\"\n",
              "              style=\"display:none;\">\n",
              "        \n",
              "  <svg xmlns=\"http://www.w3.org/2000/svg\" height=\"24px\"viewBox=\"0 0 24 24\"\n",
              "       width=\"24px\">\n",
              "    <path d=\"M0 0h24v24H0V0z\" fill=\"none\"/>\n",
              "    <path d=\"M18.56 5.44l.94 2.06.94-2.06 2.06-.94-2.06-.94-.94-2.06-.94 2.06-2.06.94zm-11 1L8.5 8.5l.94-2.06 2.06-.94-2.06-.94L8.5 2.5l-.94 2.06-2.06.94zm10 10l.94 2.06.94-2.06 2.06-.94-2.06-.94-.94-2.06-.94 2.06-2.06.94z\"/><path d=\"M17.41 7.96l-1.37-1.37c-.4-.4-.92-.59-1.43-.59-.52 0-1.04.2-1.43.59L10.3 9.45l-7.72 7.72c-.78.78-.78 2.05 0 2.83L4 21.41c.39.39.9.59 1.41.59.51 0 1.02-.2 1.41-.59l7.78-7.78 2.81-2.81c.8-.78.8-2.07 0-2.86zM5.41 20L4 18.59l7.72-7.72 1.47 1.35L5.41 20z\"/>\n",
              "  </svg>\n",
              "      </button>\n",
              "      \n",
              "  <style>\n",
              "    .colab-df-container {\n",
              "      display:flex;\n",
              "      flex-wrap:wrap;\n",
              "      gap: 12px;\n",
              "    }\n",
              "\n",
              "    .colab-df-convert {\n",
              "      background-color: #E8F0FE;\n",
              "      border: none;\n",
              "      border-radius: 50%;\n",
              "      cursor: pointer;\n",
              "      display: none;\n",
              "      fill: #1967D2;\n",
              "      height: 32px;\n",
              "      padding: 0 0 0 0;\n",
              "      width: 32px;\n",
              "    }\n",
              "\n",
              "    .colab-df-convert:hover {\n",
              "      background-color: #E2EBFA;\n",
              "      box-shadow: 0px 1px 2px rgba(60, 64, 67, 0.3), 0px 1px 3px 1px rgba(60, 64, 67, 0.15);\n",
              "      fill: #174EA6;\n",
              "    }\n",
              "\n",
              "    [theme=dark] .colab-df-convert {\n",
              "      background-color: #3B4455;\n",
              "      fill: #D2E3FC;\n",
              "    }\n",
              "\n",
              "    [theme=dark] .colab-df-convert:hover {\n",
              "      background-color: #434B5C;\n",
              "      box-shadow: 0px 1px 3px 1px rgba(0, 0, 0, 0.15);\n",
              "      filter: drop-shadow(0px 1px 2px rgba(0, 0, 0, 0.3));\n",
              "      fill: #FFFFFF;\n",
              "    }\n",
              "  </style>\n",
              "\n",
              "      <script>\n",
              "        const buttonEl =\n",
              "          document.querySelector('#df-92eefdec-9877-438f-9366-59e2413dc645 button.colab-df-convert');\n",
              "        buttonEl.style.display =\n",
              "          google.colab.kernel.accessAllowed ? 'block' : 'none';\n",
              "\n",
              "        async function convertToInteractive(key) {\n",
              "          const element = document.querySelector('#df-92eefdec-9877-438f-9366-59e2413dc645');\n",
              "          const dataTable =\n",
              "            await google.colab.kernel.invokeFunction('convertToInteractive',\n",
              "                                                     [key], {});\n",
              "          if (!dataTable) return;\n",
              "\n",
              "          const docLinkHtml = 'Like what you see? Visit the ' +\n",
              "            '<a target=\"_blank\" href=https://colab.research.google.com/notebooks/data_table.ipynb>data table notebook</a>'\n",
              "            + ' to learn more about interactive tables.';\n",
              "          element.innerHTML = '';\n",
              "          dataTable['output_type'] = 'display_data';\n",
              "          await google.colab.output.renderOutput(dataTable, element);\n",
              "          const docLink = document.createElement('div');\n",
              "          docLink.innerHTML = docLinkHtml;\n",
              "          element.appendChild(docLink);\n",
              "        }\n",
              "      </script>\n",
              "    </div>\n",
              "  </div>\n",
              "  "
            ]
          },
          "metadata": {},
          "execution_count": 47
        }
      ]
    },
    {
      "cell_type": "code",
      "source": [
        "df.describe()"
      ],
      "metadata": {
        "colab": {
          "base_uri": "https://localhost:8080/",
          "height": 300
        },
        "id": "s3ZKWp5cvNcR",
        "outputId": "09f05096-5b18-47fa-cd90-74dc500bb15c"
      },
      "execution_count": null,
      "outputs": [
        {
          "output_type": "execute_result",
          "data": {
            "text/plain": [
              "       quantidade de garrafas  preço da garrafa\n",
              "count               45.000000         45.000000\n",
              "mean                 8.244444        138.060222\n",
              "std                  4.156898         49.253588\n",
              "min                  1.000000         77.220000\n",
              "25%                  5.000000        103.630000\n",
              "50%                  8.000000        110.380000\n",
              "75%                 10.000000        207.260000\n",
              "max                 20.000000        227.980000"
            ],
            "text/html": [
              "\n",
              "  <div id=\"df-51c85f63-cf8c-4b04-b4bc-412045228796\">\n",
              "    <div class=\"colab-df-container\">\n",
              "      <div>\n",
              "<style scoped>\n",
              "    .dataframe tbody tr th:only-of-type {\n",
              "        vertical-align: middle;\n",
              "    }\n",
              "\n",
              "    .dataframe tbody tr th {\n",
              "        vertical-align: top;\n",
              "    }\n",
              "\n",
              "    .dataframe thead th {\n",
              "        text-align: right;\n",
              "    }\n",
              "</style>\n",
              "<table border=\"1\" class=\"dataframe\">\n",
              "  <thead>\n",
              "    <tr style=\"text-align: right;\">\n",
              "      <th></th>\n",
              "      <th>quantidade de garrafas</th>\n",
              "      <th>preço da garrafa</th>\n",
              "    </tr>\n",
              "  </thead>\n",
              "  <tbody>\n",
              "    <tr>\n",
              "      <th>count</th>\n",
              "      <td>45.000000</td>\n",
              "      <td>45.000000</td>\n",
              "    </tr>\n",
              "    <tr>\n",
              "      <th>mean</th>\n",
              "      <td>8.244444</td>\n",
              "      <td>138.060222</td>\n",
              "    </tr>\n",
              "    <tr>\n",
              "      <th>std</th>\n",
              "      <td>4.156898</td>\n",
              "      <td>49.253588</td>\n",
              "    </tr>\n",
              "    <tr>\n",
              "      <th>min</th>\n",
              "      <td>1.000000</td>\n",
              "      <td>77.220000</td>\n",
              "    </tr>\n",
              "    <tr>\n",
              "      <th>25%</th>\n",
              "      <td>5.000000</td>\n",
              "      <td>103.630000</td>\n",
              "    </tr>\n",
              "    <tr>\n",
              "      <th>50%</th>\n",
              "      <td>8.000000</td>\n",
              "      <td>110.380000</td>\n",
              "    </tr>\n",
              "    <tr>\n",
              "      <th>75%</th>\n",
              "      <td>10.000000</td>\n",
              "      <td>207.260000</td>\n",
              "    </tr>\n",
              "    <tr>\n",
              "      <th>max</th>\n",
              "      <td>20.000000</td>\n",
              "      <td>227.980000</td>\n",
              "    </tr>\n",
              "  </tbody>\n",
              "</table>\n",
              "</div>\n",
              "      <button class=\"colab-df-convert\" onclick=\"convertToInteractive('df-51c85f63-cf8c-4b04-b4bc-412045228796')\"\n",
              "              title=\"Convert this dataframe to an interactive table.\"\n",
              "              style=\"display:none;\">\n",
              "        \n",
              "  <svg xmlns=\"http://www.w3.org/2000/svg\" height=\"24px\"viewBox=\"0 0 24 24\"\n",
              "       width=\"24px\">\n",
              "    <path d=\"M0 0h24v24H0V0z\" fill=\"none\"/>\n",
              "    <path d=\"M18.56 5.44l.94 2.06.94-2.06 2.06-.94-2.06-.94-.94-2.06-.94 2.06-2.06.94zm-11 1L8.5 8.5l.94-2.06 2.06-.94-2.06-.94L8.5 2.5l-.94 2.06-2.06.94zm10 10l.94 2.06.94-2.06 2.06-.94-2.06-.94-.94-2.06-.94 2.06-2.06.94z\"/><path d=\"M17.41 7.96l-1.37-1.37c-.4-.4-.92-.59-1.43-.59-.52 0-1.04.2-1.43.59L10.3 9.45l-7.72 7.72c-.78.78-.78 2.05 0 2.83L4 21.41c.39.39.9.59 1.41.59.51 0 1.02-.2 1.41-.59l7.78-7.78 2.81-2.81c.8-.78.8-2.07 0-2.86zM5.41 20L4 18.59l7.72-7.72 1.47 1.35L5.41 20z\"/>\n",
              "  </svg>\n",
              "      </button>\n",
              "      \n",
              "  <style>\n",
              "    .colab-df-container {\n",
              "      display:flex;\n",
              "      flex-wrap:wrap;\n",
              "      gap: 12px;\n",
              "    }\n",
              "\n",
              "    .colab-df-convert {\n",
              "      background-color: #E8F0FE;\n",
              "      border: none;\n",
              "      border-radius: 50%;\n",
              "      cursor: pointer;\n",
              "      display: none;\n",
              "      fill: #1967D2;\n",
              "      height: 32px;\n",
              "      padding: 0 0 0 0;\n",
              "      width: 32px;\n",
              "    }\n",
              "\n",
              "    .colab-df-convert:hover {\n",
              "      background-color: #E2EBFA;\n",
              "      box-shadow: 0px 1px 2px rgba(60, 64, 67, 0.3), 0px 1px 3px 1px rgba(60, 64, 67, 0.15);\n",
              "      fill: #174EA6;\n",
              "    }\n",
              "\n",
              "    [theme=dark] .colab-df-convert {\n",
              "      background-color: #3B4455;\n",
              "      fill: #D2E3FC;\n",
              "    }\n",
              "\n",
              "    [theme=dark] .colab-df-convert:hover {\n",
              "      background-color: #434B5C;\n",
              "      box-shadow: 0px 1px 3px 1px rgba(0, 0, 0, 0.15);\n",
              "      filter: drop-shadow(0px 1px 2px rgba(0, 0, 0, 0.3));\n",
              "      fill: #FFFFFF;\n",
              "    }\n",
              "  </style>\n",
              "\n",
              "      <script>\n",
              "        const buttonEl =\n",
              "          document.querySelector('#df-51c85f63-cf8c-4b04-b4bc-412045228796 button.colab-df-convert');\n",
              "        buttonEl.style.display =\n",
              "          google.colab.kernel.accessAllowed ? 'block' : 'none';\n",
              "\n",
              "        async function convertToInteractive(key) {\n",
              "          const element = document.querySelector('#df-51c85f63-cf8c-4b04-b4bc-412045228796');\n",
              "          const dataTable =\n",
              "            await google.colab.kernel.invokeFunction('convertToInteractive',\n",
              "                                                     [key], {});\n",
              "          if (!dataTable) return;\n",
              "\n",
              "          const docLinkHtml = 'Like what you see? Visit the ' +\n",
              "            '<a target=\"_blank\" href=https://colab.research.google.com/notebooks/data_table.ipynb>data table notebook</a>'\n",
              "            + ' to learn more about interactive tables.';\n",
              "          element.innerHTML = '';\n",
              "          dataTable['output_type'] = 'display_data';\n",
              "          await google.colab.output.renderOutput(dataTable, element);\n",
              "          const docLink = document.createElement('div');\n",
              "          docLink.innerHTML = docLinkHtml;\n",
              "          element.appendChild(docLink);\n",
              "        }\n",
              "      </script>\n",
              "    </div>\n",
              "  </div>\n",
              "  "
            ]
          },
          "metadata": {},
          "execution_count": 48
        }
      ]
    },
    {
      "cell_type": "code",
      "source": [
        "from statistics import variance\n",
        "\n",
        "preco = df['preço da garrafa'].to_list()\n",
        "qtde = df['quantidade de garrafas'].to_list()\n",
        "preco.sort()\n",
        "qtde.sort()\n",
        "print(f'Variância [Preço da Garrafa]: {variance(preco)}')\n",
        "print(f'Variância [Quantidade de Garrafas]: {variance(qtde)}')"
      ],
      "metadata": {
        "colab": {
          "base_uri": "https://localhost:8080/"
        },
        "id": "zjSQUxp11_el",
        "outputId": "52e5ff89-618d-498c-f393-8bb21b43936b"
      },
      "execution_count": null,
      "outputs": [
        {
          "output_type": "stream",
          "name": "stdout",
          "text": [
            "Variância [Preço da Garrafa]: 2425.915979494949\n",
            "Variância [Quantidade de Garrafas]: 17.27979797979798\n"
          ]
        }
      ]
    },
    {
      "cell_type": "markdown",
      "source": [
        "### Dataset Wines"
      ],
      "metadata": {
        "id": "ZLg9QlRBrw3B"
      }
    },
    {
      "cell_type": "code",
      "source": [
        "dataset = r'https://raw.githubusercontent.com/rafaelpuyau/infinity_school/main/ds/datasets/wines.csv'\n",
        "df2 = pd.read_csv(dataset)\n",
        "df2.head(2)"
      ],
      "metadata": {
        "colab": {
          "base_uri": "https://localhost:8080/",
          "height": 112
        },
        "id": "zKJsY_bQ48ra",
        "outputId": "cec73654-7765-49f2-d4a1-1ea56f17ddf9"
      },
      "execution_count": null,
      "outputs": [
        {
          "output_type": "execute_result",
          "data": {
            "text/plain": [
              "         date   label  vintage  style   country   price  quantity  rate\n",
              "0  2021-01-04  Wine K     2002  White  Portugal  144.22         9    97\n",
              "1  2021-03-11  Wine J     1982    Red  Portugal  244.80         3    76"
            ],
            "text/html": [
              "\n",
              "  <div id=\"df-d255a1b9-4efa-40c6-8530-d3e44cc9b78f\">\n",
              "    <div class=\"colab-df-container\">\n",
              "      <div>\n",
              "<style scoped>\n",
              "    .dataframe tbody tr th:only-of-type {\n",
              "        vertical-align: middle;\n",
              "    }\n",
              "\n",
              "    .dataframe tbody tr th {\n",
              "        vertical-align: top;\n",
              "    }\n",
              "\n",
              "    .dataframe thead th {\n",
              "        text-align: right;\n",
              "    }\n",
              "</style>\n",
              "<table border=\"1\" class=\"dataframe\">\n",
              "  <thead>\n",
              "    <tr style=\"text-align: right;\">\n",
              "      <th></th>\n",
              "      <th>date</th>\n",
              "      <th>label</th>\n",
              "      <th>vintage</th>\n",
              "      <th>style</th>\n",
              "      <th>country</th>\n",
              "      <th>price</th>\n",
              "      <th>quantity</th>\n",
              "      <th>rate</th>\n",
              "    </tr>\n",
              "  </thead>\n",
              "  <tbody>\n",
              "    <tr>\n",
              "      <th>0</th>\n",
              "      <td>2021-01-04</td>\n",
              "      <td>Wine K</td>\n",
              "      <td>2002</td>\n",
              "      <td>White</td>\n",
              "      <td>Portugal</td>\n",
              "      <td>144.22</td>\n",
              "      <td>9</td>\n",
              "      <td>97</td>\n",
              "    </tr>\n",
              "    <tr>\n",
              "      <th>1</th>\n",
              "      <td>2021-03-11</td>\n",
              "      <td>Wine J</td>\n",
              "      <td>1982</td>\n",
              "      <td>Red</td>\n",
              "      <td>Portugal</td>\n",
              "      <td>244.80</td>\n",
              "      <td>3</td>\n",
              "      <td>76</td>\n",
              "    </tr>\n",
              "  </tbody>\n",
              "</table>\n",
              "</div>\n",
              "      <button class=\"colab-df-convert\" onclick=\"convertToInteractive('df-d255a1b9-4efa-40c6-8530-d3e44cc9b78f')\"\n",
              "              title=\"Convert this dataframe to an interactive table.\"\n",
              "              style=\"display:none;\">\n",
              "        \n",
              "  <svg xmlns=\"http://www.w3.org/2000/svg\" height=\"24px\"viewBox=\"0 0 24 24\"\n",
              "       width=\"24px\">\n",
              "    <path d=\"M0 0h24v24H0V0z\" fill=\"none\"/>\n",
              "    <path d=\"M18.56 5.44l.94 2.06.94-2.06 2.06-.94-2.06-.94-.94-2.06-.94 2.06-2.06.94zm-11 1L8.5 8.5l.94-2.06 2.06-.94-2.06-.94L8.5 2.5l-.94 2.06-2.06.94zm10 10l.94 2.06.94-2.06 2.06-.94-2.06-.94-.94-2.06-.94 2.06-2.06.94z\"/><path d=\"M17.41 7.96l-1.37-1.37c-.4-.4-.92-.59-1.43-.59-.52 0-1.04.2-1.43.59L10.3 9.45l-7.72 7.72c-.78.78-.78 2.05 0 2.83L4 21.41c.39.39.9.59 1.41.59.51 0 1.02-.2 1.41-.59l7.78-7.78 2.81-2.81c.8-.78.8-2.07 0-2.86zM5.41 20L4 18.59l7.72-7.72 1.47 1.35L5.41 20z\"/>\n",
              "  </svg>\n",
              "      </button>\n",
              "      \n",
              "  <style>\n",
              "    .colab-df-container {\n",
              "      display:flex;\n",
              "      flex-wrap:wrap;\n",
              "      gap: 12px;\n",
              "    }\n",
              "\n",
              "    .colab-df-convert {\n",
              "      background-color: #E8F0FE;\n",
              "      border: none;\n",
              "      border-radius: 50%;\n",
              "      cursor: pointer;\n",
              "      display: none;\n",
              "      fill: #1967D2;\n",
              "      height: 32px;\n",
              "      padding: 0 0 0 0;\n",
              "      width: 32px;\n",
              "    }\n",
              "\n",
              "    .colab-df-convert:hover {\n",
              "      background-color: #E2EBFA;\n",
              "      box-shadow: 0px 1px 2px rgba(60, 64, 67, 0.3), 0px 1px 3px 1px rgba(60, 64, 67, 0.15);\n",
              "      fill: #174EA6;\n",
              "    }\n",
              "\n",
              "    [theme=dark] .colab-df-convert {\n",
              "      background-color: #3B4455;\n",
              "      fill: #D2E3FC;\n",
              "    }\n",
              "\n",
              "    [theme=dark] .colab-df-convert:hover {\n",
              "      background-color: #434B5C;\n",
              "      box-shadow: 0px 1px 3px 1px rgba(0, 0, 0, 0.15);\n",
              "      filter: drop-shadow(0px 1px 2px rgba(0, 0, 0, 0.3));\n",
              "      fill: #FFFFFF;\n",
              "    }\n",
              "  </style>\n",
              "\n",
              "      <script>\n",
              "        const buttonEl =\n",
              "          document.querySelector('#df-d255a1b9-4efa-40c6-8530-d3e44cc9b78f button.colab-df-convert');\n",
              "        buttonEl.style.display =\n",
              "          google.colab.kernel.accessAllowed ? 'block' : 'none';\n",
              "\n",
              "        async function convertToInteractive(key) {\n",
              "          const element = document.querySelector('#df-d255a1b9-4efa-40c6-8530-d3e44cc9b78f');\n",
              "          const dataTable =\n",
              "            await google.colab.kernel.invokeFunction('convertToInteractive',\n",
              "                                                     [key], {});\n",
              "          if (!dataTable) return;\n",
              "\n",
              "          const docLinkHtml = 'Like what you see? Visit the ' +\n",
              "            '<a target=\"_blank\" href=https://colab.research.google.com/notebooks/data_table.ipynb>data table notebook</a>'\n",
              "            + ' to learn more about interactive tables.';\n",
              "          element.innerHTML = '';\n",
              "          dataTable['output_type'] = 'display_data';\n",
              "          await google.colab.output.renderOutput(dataTable, element);\n",
              "          const docLink = document.createElement('div');\n",
              "          docLink.innerHTML = docLinkHtml;\n",
              "          element.appendChild(docLink);\n",
              "        }\n",
              "      </script>\n",
              "    </div>\n",
              "  </div>\n",
              "  "
            ]
          },
          "metadata": {},
          "execution_count": 55
        }
      ]
    },
    {
      "cell_type": "code",
      "source": [
        "df2.describe()"
      ],
      "metadata": {
        "colab": {
          "base_uri": "https://localhost:8080/",
          "height": 300
        },
        "id": "rO3jEs3U5Fly",
        "outputId": "fc127582-53db-4354-a49f-892c84747099"
      },
      "execution_count": null,
      "outputs": [
        {
          "output_type": "execute_result",
          "data": {
            "text/plain": [
              "            vintage         price      quantity          rate\n",
              "count  10000.000000  10000.000000  10000.000000  10000.000000\n",
              "mean    2001.404200    213.907129      8.015500     87.484200\n",
              "std       11.550375    134.010508      4.280244      7.475717\n",
              "min     1982.000000     50.010000      1.000000     75.000000\n",
              "25%     1991.000000    105.617500      4.000000     81.000000\n",
              "50%     2001.000000    178.240000      8.000000     88.000000\n",
              "75%     2011.000000    294.087500     12.000000     94.000000\n",
              "max     2021.000000   1107.890000     15.000000    100.000000"
            ],
            "text/html": [
              "\n",
              "  <div id=\"df-f32d1f5f-8e40-4fe3-bc77-556a69f7f1fb\">\n",
              "    <div class=\"colab-df-container\">\n",
              "      <div>\n",
              "<style scoped>\n",
              "    .dataframe tbody tr th:only-of-type {\n",
              "        vertical-align: middle;\n",
              "    }\n",
              "\n",
              "    .dataframe tbody tr th {\n",
              "        vertical-align: top;\n",
              "    }\n",
              "\n",
              "    .dataframe thead th {\n",
              "        text-align: right;\n",
              "    }\n",
              "</style>\n",
              "<table border=\"1\" class=\"dataframe\">\n",
              "  <thead>\n",
              "    <tr style=\"text-align: right;\">\n",
              "      <th></th>\n",
              "      <th>vintage</th>\n",
              "      <th>price</th>\n",
              "      <th>quantity</th>\n",
              "      <th>rate</th>\n",
              "    </tr>\n",
              "  </thead>\n",
              "  <tbody>\n",
              "    <tr>\n",
              "      <th>count</th>\n",
              "      <td>10000.000000</td>\n",
              "      <td>10000.000000</td>\n",
              "      <td>10000.000000</td>\n",
              "      <td>10000.000000</td>\n",
              "    </tr>\n",
              "    <tr>\n",
              "      <th>mean</th>\n",
              "      <td>2001.404200</td>\n",
              "      <td>213.907129</td>\n",
              "      <td>8.015500</td>\n",
              "      <td>87.484200</td>\n",
              "    </tr>\n",
              "    <tr>\n",
              "      <th>std</th>\n",
              "      <td>11.550375</td>\n",
              "      <td>134.010508</td>\n",
              "      <td>4.280244</td>\n",
              "      <td>7.475717</td>\n",
              "    </tr>\n",
              "    <tr>\n",
              "      <th>min</th>\n",
              "      <td>1982.000000</td>\n",
              "      <td>50.010000</td>\n",
              "      <td>1.000000</td>\n",
              "      <td>75.000000</td>\n",
              "    </tr>\n",
              "    <tr>\n",
              "      <th>25%</th>\n",
              "      <td>1991.000000</td>\n",
              "      <td>105.617500</td>\n",
              "      <td>4.000000</td>\n",
              "      <td>81.000000</td>\n",
              "    </tr>\n",
              "    <tr>\n",
              "      <th>50%</th>\n",
              "      <td>2001.000000</td>\n",
              "      <td>178.240000</td>\n",
              "      <td>8.000000</td>\n",
              "      <td>88.000000</td>\n",
              "    </tr>\n",
              "    <tr>\n",
              "      <th>75%</th>\n",
              "      <td>2011.000000</td>\n",
              "      <td>294.087500</td>\n",
              "      <td>12.000000</td>\n",
              "      <td>94.000000</td>\n",
              "    </tr>\n",
              "    <tr>\n",
              "      <th>max</th>\n",
              "      <td>2021.000000</td>\n",
              "      <td>1107.890000</td>\n",
              "      <td>15.000000</td>\n",
              "      <td>100.000000</td>\n",
              "    </tr>\n",
              "  </tbody>\n",
              "</table>\n",
              "</div>\n",
              "      <button class=\"colab-df-convert\" onclick=\"convertToInteractive('df-f32d1f5f-8e40-4fe3-bc77-556a69f7f1fb')\"\n",
              "              title=\"Convert this dataframe to an interactive table.\"\n",
              "              style=\"display:none;\">\n",
              "        \n",
              "  <svg xmlns=\"http://www.w3.org/2000/svg\" height=\"24px\"viewBox=\"0 0 24 24\"\n",
              "       width=\"24px\">\n",
              "    <path d=\"M0 0h24v24H0V0z\" fill=\"none\"/>\n",
              "    <path d=\"M18.56 5.44l.94 2.06.94-2.06 2.06-.94-2.06-.94-.94-2.06-.94 2.06-2.06.94zm-11 1L8.5 8.5l.94-2.06 2.06-.94-2.06-.94L8.5 2.5l-.94 2.06-2.06.94zm10 10l.94 2.06.94-2.06 2.06-.94-2.06-.94-.94-2.06-.94 2.06-2.06.94z\"/><path d=\"M17.41 7.96l-1.37-1.37c-.4-.4-.92-.59-1.43-.59-.52 0-1.04.2-1.43.59L10.3 9.45l-7.72 7.72c-.78.78-.78 2.05 0 2.83L4 21.41c.39.39.9.59 1.41.59.51 0 1.02-.2 1.41-.59l7.78-7.78 2.81-2.81c.8-.78.8-2.07 0-2.86zM5.41 20L4 18.59l7.72-7.72 1.47 1.35L5.41 20z\"/>\n",
              "  </svg>\n",
              "      </button>\n",
              "      \n",
              "  <style>\n",
              "    .colab-df-container {\n",
              "      display:flex;\n",
              "      flex-wrap:wrap;\n",
              "      gap: 12px;\n",
              "    }\n",
              "\n",
              "    .colab-df-convert {\n",
              "      background-color: #E8F0FE;\n",
              "      border: none;\n",
              "      border-radius: 50%;\n",
              "      cursor: pointer;\n",
              "      display: none;\n",
              "      fill: #1967D2;\n",
              "      height: 32px;\n",
              "      padding: 0 0 0 0;\n",
              "      width: 32px;\n",
              "    }\n",
              "\n",
              "    .colab-df-convert:hover {\n",
              "      background-color: #E2EBFA;\n",
              "      box-shadow: 0px 1px 2px rgba(60, 64, 67, 0.3), 0px 1px 3px 1px rgba(60, 64, 67, 0.15);\n",
              "      fill: #174EA6;\n",
              "    }\n",
              "\n",
              "    [theme=dark] .colab-df-convert {\n",
              "      background-color: #3B4455;\n",
              "      fill: #D2E3FC;\n",
              "    }\n",
              "\n",
              "    [theme=dark] .colab-df-convert:hover {\n",
              "      background-color: #434B5C;\n",
              "      box-shadow: 0px 1px 3px 1px rgba(0, 0, 0, 0.15);\n",
              "      filter: drop-shadow(0px 1px 2px rgba(0, 0, 0, 0.3));\n",
              "      fill: #FFFFFF;\n",
              "    }\n",
              "  </style>\n",
              "\n",
              "      <script>\n",
              "        const buttonEl =\n",
              "          document.querySelector('#df-f32d1f5f-8e40-4fe3-bc77-556a69f7f1fb button.colab-df-convert');\n",
              "        buttonEl.style.display =\n",
              "          google.colab.kernel.accessAllowed ? 'block' : 'none';\n",
              "\n",
              "        async function convertToInteractive(key) {\n",
              "          const element = document.querySelector('#df-f32d1f5f-8e40-4fe3-bc77-556a69f7f1fb');\n",
              "          const dataTable =\n",
              "            await google.colab.kernel.invokeFunction('convertToInteractive',\n",
              "                                                     [key], {});\n",
              "          if (!dataTable) return;\n",
              "\n",
              "          const docLinkHtml = 'Like what you see? Visit the ' +\n",
              "            '<a target=\"_blank\" href=https://colab.research.google.com/notebooks/data_table.ipynb>data table notebook</a>'\n",
              "            + ' to learn more about interactive tables.';\n",
              "          element.innerHTML = '';\n",
              "          dataTable['output_type'] = 'display_data';\n",
              "          await google.colab.output.renderOutput(dataTable, element);\n",
              "          const docLink = document.createElement('div');\n",
              "          docLink.innerHTML = docLinkHtml;\n",
              "          element.appendChild(docLink);\n",
              "        }\n",
              "      </script>\n",
              "    </div>\n",
              "  </div>\n",
              "  "
            ]
          },
          "metadata": {},
          "execution_count": 56
        }
      ]
    },
    {
      "cell_type": "markdown",
      "source": [
        "## Terminamos por hoje!"
      ],
      "metadata": {
        "id": "Zyk_lZu1CDeU"
      }
    }
  ]
}