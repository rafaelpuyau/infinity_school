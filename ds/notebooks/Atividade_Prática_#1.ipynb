{
 "cells": [
  {
   "cell_type": "markdown",
   "id": "78366153",
   "metadata": {},
   "source": [
    "# Exercício"
   ]
  },
  {
   "cell_type": "code",
   "execution_count": 1,
   "id": "ed4ac721",
   "metadata": {
    "ExecuteTime": {
     "end_time": "2023-02-17T13:15:17.460987Z",
     "start_time": "2023-02-17T13:15:16.366288Z"
    }
   },
   "outputs": [],
   "source": [
    "# Importando as bibliotecas\n",
    "import pandas as pd\n",
    "from matplotlib import pyplot as plt"
   ]
  },
  {
   "cell_type": "code",
   "execution_count": 26,
   "id": "76736642",
   "metadata": {
    "ExecuteTime": {
     "end_time": "2023-02-17T13:33:16.624835Z",
     "start_time": "2023-02-17T13:33:16.614514Z"
    }
   },
   "outputs": [],
   "source": [
    "# Formatação dos números\n",
    "pd.options.display.float_format = '{:20,.2f}'.format"
   ]
  },
  {
   "cell_type": "code",
   "execution_count": 5,
   "id": "83786b8f",
   "metadata": {
    "ExecuteTime": {
     "end_time": "2023-02-17T13:18:09.608213Z",
     "start_time": "2023-02-17T13:18:09.380638Z"
    }
   },
   "outputs": [],
   "source": [
    "# Carregando o dataset\n",
    "dataset = r''\n",
    "df = pd.read_excel(dataset)"
   ]
  },
  {
   "cell_type": "markdown",
   "id": "8e2f2166",
   "metadata": {},
   "source": [
    "## 1. Qual a receita total?"
   ]
  },
  {
   "cell_type": "code",
   "execution_count": null,
   "id": "5fec4201",
   "metadata": {
    "ExecuteTime": {
     "end_time": "2023-02-17T13:19:53.625496Z",
     "start_time": "2023-02-17T13:19:53.608366Z"
    }
   },
   "outputs": [],
   "source": []
  },
  {
   "cell_type": "markdown",
   "id": "9bc9e36a",
   "metadata": {},
   "source": [
    "## 2. Qual o custo total?"
   ]
  },
  {
   "cell_type": "code",
   "execution_count": null,
   "id": "48e25aa3",
   "metadata": {
    "ExecuteTime": {
     "end_time": "2023-02-17T13:23:06.940878Z",
     "start_time": "2023-02-17T13:23:06.922601Z"
    }
   },
   "outputs": [],
   "source": []
  },
  {
   "cell_type": "markdown",
   "id": "f03c9014",
   "metadata": {},
   "source": [
    "## 3. Qual o lucro total?"
   ]
  },
  {
   "cell_type": "code",
   "execution_count": null,
   "id": "14cf4fdf",
   "metadata": {
    "ExecuteTime": {
     "end_time": "2023-02-17T13:23:54.222027Z",
     "start_time": "2023-02-17T13:23:54.209302Z"
    }
   },
   "outputs": [],
   "source": []
  },
  {
   "cell_type": "markdown",
   "id": "10ebff78",
   "metadata": {},
   "source": [
    "## 4. Qual o tempo de envio - em dias - para um produto ser enviado?"
   ]
  },
  {
   "cell_type": "code",
   "execution_count": null,
   "id": "b80cebaf",
   "metadata": {
    "ExecuteTime": {
     "end_time": "2023-02-17T13:25:12.282977Z",
     "start_time": "2023-02-17T13:25:12.271214Z"
    }
   },
   "outputs": [],
   "source": []
  },
  {
   "cell_type": "markdown",
   "id": "c37148b7",
   "metadata": {},
   "source": [
    "## 5. Qual a média de tempo de envio para cada marca?"
   ]
  },
  {
   "cell_type": "code",
   "execution_count": null,
   "id": "d084c26b",
   "metadata": {
    "ExecuteTime": {
     "end_time": "2023-02-17T13:29:02.791013Z",
     "start_time": "2023-02-17T13:29:02.778000Z"
    }
   },
   "outputs": [],
   "source": []
  },
  {
   "cell_type": "markdown",
   "id": "1cd03504",
   "metadata": {},
   "source": [
    "## 6. Verifique se há valores nulos"
   ]
  },
  {
   "cell_type": "code",
   "execution_count": null,
   "id": "a2265f53",
   "metadata": {
    "ExecuteTime": {
     "end_time": "2023-02-17T13:29:37.021295Z",
     "start_time": "2023-02-17T13:29:36.979390Z"
    }
   },
   "outputs": [],
   "source": []
  },
  {
   "cell_type": "markdown",
   "id": "3c545c84",
   "metadata": {},
   "source": [
    "## 7. Qual foi o lucro por ano e por marca"
   ]
  },
  {
   "cell_type": "code",
   "execution_count": null,
   "id": "a1cbcdf6",
   "metadata": {
    "ExecuteTime": {
     "end_time": "2023-02-17T13:33:18.704917Z",
     "start_time": "2023-02-17T13:33:18.685720Z"
    }
   },
   "outputs": [],
   "source": []
  },
  {
   "cell_type": "markdown",
   "id": "fbf8a331",
   "metadata": {},
   "source": [
    "## 8. Qual o total de produtos vendidos?"
   ]
  },
  {
   "cell_type": "code",
   "execution_count": null,
   "id": "272dea4b",
   "metadata": {
    "ExecuteTime": {
     "end_time": "2023-02-17T13:54:44.770702Z",
     "start_time": "2023-02-17T13:54:44.756554Z"
    }
   },
   "outputs": [],
   "source": []
  },
  {
   "cell_type": "markdown",
   "id": "eae3d577",
   "metadata": {},
   "source": [
    "## 9. Gráfico do total de produtos vendidos (Barras horizontais)"
   ]
  },
  {
   "cell_type": "code",
   "execution_count": null,
   "id": "59d2ddd6",
   "metadata": {
    "ExecuteTime": {
     "end_time": "2023-02-17T14:01:19.787408Z",
     "start_time": "2023-02-17T14:01:19.527423Z"
    }
   },
   "outputs": [],
   "source": []
  },
  {
   "cell_type": "markdown",
   "id": "986f9758",
   "metadata": {},
   "source": [
    "### Agora com barras verticais"
   ]
  },
  {
   "cell_type": "code",
   "execution_count": null,
   "id": "00148597",
   "metadata": {
    "ExecuteTime": {
     "end_time": "2023-02-17T15:43:33.864800Z",
     "start_time": "2023-02-17T15:43:33.618389Z"
    }
   },
   "outputs": [],
   "source": []
  },
  {
   "cell_type": "markdown",
   "id": "b33cad23",
   "metadata": {},
   "source": [
    "## 10. Qual o total de lucro por ano?"
   ]
  },
  {
   "cell_type": "code",
   "execution_count": null,
   "id": "78b155d7",
   "metadata": {
    "ExecuteTime": {
     "end_time": "2023-02-17T15:31:37.268887Z",
     "start_time": "2023-02-17T15:31:37.242168Z"
    }
   },
   "outputs": [],
   "source": []
  },
  {
   "cell_type": "markdown",
   "id": "67948f01",
   "metadata": {},
   "source": [
    "## 11. Gráfico Lucro x Ano"
   ]
  },
  {
   "cell_type": "code",
   "execution_count": null,
   "id": "1e5ccc13",
   "metadata": {
    "ExecuteTime": {
     "end_time": "2023-02-17T15:41:54.564523Z",
     "start_time": "2023-02-17T15:41:54.450433Z"
    }
   },
   "outputs": [],
   "source": []
  },
  {
   "cell_type": "markdown",
   "id": "6e82fe16",
   "metadata": {},
   "source": [
    "## 12. Selecionar somente 2009"
   ]
  },
  {
   "cell_type": "code",
   "execution_count": null,
   "id": "e9f84822",
   "metadata": {
    "ExecuteTime": {
     "end_time": "2023-02-17T15:47:53.770533Z",
     "start_time": "2023-02-17T15:47:53.703225Z"
    }
   },
   "outputs": [],
   "source": []
  },
  {
   "cell_type": "markdown",
   "id": "b9c1563a",
   "metadata": {},
   "source": [
    "## 13. Gráfico de linhas Lucro x Mês com rótulos"
   ]
  },
  {
   "cell_type": "code",
   "execution_count": null,
   "id": "cc5093ba",
   "metadata": {
    "ExecuteTime": {
     "end_time": "2023-02-17T16:07:00.431286Z",
     "start_time": "2023-02-17T16:07:00.215758Z"
    }
   },
   "outputs": [],
   "source": []
  },
  {
   "cell_type": "markdown",
   "id": "9f321953",
   "metadata": {},
   "source": [
    "## 14. Gráfico de barras  Lucro x Marca"
   ]
  },
  {
   "cell_type": "code",
   "execution_count": null,
   "id": "049cca3c",
   "metadata": {
    "ExecuteTime": {
     "end_time": "2023-02-17T16:15:30.449119Z",
     "start_time": "2023-02-17T16:15:30.270693Z"
    }
   },
   "outputs": [],
   "source": []
  },
  {
   "cell_type": "markdown",
   "id": "eaf4d392",
   "metadata": {},
   "source": [
    "## 15. Gráfico de barras Lucro x Classe"
   ]
  },
  {
   "cell_type": "code",
   "execution_count": null,
   "id": "1e9e3622",
   "metadata": {
    "ExecuteTime": {
     "end_time": "2023-02-17T16:36:56.573014Z",
     "start_time": "2023-02-17T16:36:56.437111Z"
    }
   },
   "outputs": [],
   "source": []
  },
  {
   "cell_type": "markdown",
   "id": "87ecb469",
   "metadata": {
    "ExecuteTime": {
     "end_time": "2023-02-17T16:36:06.992751Z",
     "start_time": "2023-02-17T16:36:06.975191Z"
    }
   },
   "source": [
    "## 16. Análise estatística de Tempo_envio do dataset inteiro"
   ]
  },
  {
   "cell_type": "markdown",
   "id": "336a81a6",
   "metadata": {},
   "source": [
    "### Describe( )"
   ]
  },
  {
   "cell_type": "code",
   "execution_count": null,
   "id": "e64fc7af",
   "metadata": {
    "ExecuteTime": {
     "end_time": "2023-02-17T16:41:49.422772Z",
     "start_time": "2023-02-17T16:41:49.387693Z"
    }
   },
   "outputs": [],
   "source": []
  },
  {
   "cell_type": "markdown",
   "id": "aac8b2f5",
   "metadata": {},
   "source": [
    "### Gráfico Boxplot"
   ]
  },
  {
   "cell_type": "code",
   "execution_count": null,
   "id": "1c1fb121",
   "metadata": {
    "ExecuteTime": {
     "end_time": "2023-02-17T16:49:34.221782Z",
     "start_time": "2023-02-17T16:49:33.944001Z"
    }
   },
   "outputs": [],
   "source": []
  },
  {
   "cell_type": "markdown",
   "id": "435f7cd2",
   "metadata": {},
   "source": [
    "### Histograma (Definir tipo de gráfico histograma)"
   ]
  },
  {
   "cell_type": "code",
   "execution_count": null,
   "id": "26720803",
   "metadata": {
    "ExecuteTime": {
     "end_time": "2023-02-17T16:53:26.140622Z",
     "start_time": "2023-02-17T16:53:25.910347Z"
    }
   },
   "outputs": [],
   "source": []
  },
  {
   "cell_type": "markdown",
   "id": "a87923c3",
   "metadata": {},
   "source": [
    "### Tempo mínimo de envio"
   ]
  },
  {
   "cell_type": "code",
   "execution_count": null,
   "id": "09519192",
   "metadata": {
    "ExecuteTime": {
     "end_time": "2023-02-17T16:53:44.292454Z",
     "start_time": "2023-02-17T16:53:44.256610Z"
    }
   },
   "outputs": [],
   "source": []
  },
  {
   "cell_type": "markdown",
   "id": "ee6dd14d",
   "metadata": {},
   "source": [
    "### Tempo máximo de envio"
   ]
  },
  {
   "cell_type": "code",
   "execution_count": null,
   "id": "bdb72869",
   "metadata": {
    "ExecuteTime": {
     "end_time": "2023-02-17T16:53:57.196203Z",
     "start_time": "2023-02-17T16:53:57.191038Z"
    }
   },
   "outputs": [],
   "source": []
  },
  {
   "cell_type": "markdown",
   "id": "1d0ca811",
   "metadata": {},
   "source": [
    "## 17. Identificando o Outlier (Qual é este produto?)"
   ]
  },
  {
   "cell_type": "code",
   "execution_count": null,
   "id": "630f00aa",
   "metadata": {
    "ExecuteTime": {
     "end_time": "2023-02-17T16:55:21.582461Z",
     "start_time": "2023-02-17T16:55:21.534688Z"
    }
   },
   "outputs": [],
   "source": []
  },
  {
   "cell_type": "code",
   "execution_count": null,
   "id": "bb97c546",
   "metadata": {
    "ExecuteTime": {
     "end_time": "2023-02-17T16:55:47.833105Z",
     "start_time": "2023-02-17T16:55:47.811254Z"
    }
   },
   "outputs": [],
   "source": []
  }
 ],
 "metadata": {
  "kernelspec": {
   "display_name": "Python 3 (ipykernel)",
   "language": "python",
   "name": "python3"
  },
  "language_info": {
   "codemirror_mode": {
    "name": "ipython",
    "version": 3
   },
   "file_extension": ".py",
   "mimetype": "text/x-python",
   "name": "python",
   "nbconvert_exporter": "python",
   "pygments_lexer": "ipython3",
   "version": "3.9.12"
  }
 },
 "nbformat": 4,
 "nbformat_minor": 5
}
