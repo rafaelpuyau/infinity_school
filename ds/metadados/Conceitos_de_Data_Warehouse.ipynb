{
  "nbformat": 4,
  "nbformat_minor": 0,
  "metadata": {
    "colab": {
      "provenance": []
    },
    "kernelspec": {
      "name": "python3",
      "display_name": "Python 3"
    },
    "language_info": {
      "name": "python"
    }
  },
  "cells": [
    {
      "cell_type": "markdown",
      "source": [
        "# Abordagens Kimball & Inmon"
      ],
      "metadata": {
        "id": "Y1-qLHM-T0r5"
      }
    },
    {
      "cell_type": "markdown",
      "source": [
        "Existem algumas abordagens de __data warehouse__, mas há 2 metodologias - populares - que são amplamente discutidas e explicadas:\n",
        "\n",
        "* Kimball\n",
        "* Inmon\n",
        "\n",
        "Vale ressaltar que ambas as abordagens possuem seus pontos positivos (vantagens) e seus pontos negativos (desvantagens)"
      ],
      "metadata": {
        "id": "EeAJ2F1ST_GN"
      }
    },
    {
      "cell_type": "markdown",
      "source": [
        "## Conceito principal de um DATA WAREHOUSE"
      ],
      "metadata": {
        "id": "9_uucXZVUnMD"
      }
    },
    {
      "cell_type": "markdown",
      "source": [
        "Um __data warehouse__ permite que os usuários acessem uma versão unificada da \"verdade\" para a tomada de decisões, relatórios e previsões de negócios em tempo hábil.\n",
        "\n",
        "> _Funciona como um sistema de informação com todos os dados passados e comulativos armazenados de uma ou mais fontes_\n",
        "\n",
        "__QUAIS SÃO AS CARACTERÍSTICAS DE UM DATA WAREHOUSE__\n",
        "\n",
        "* __Orientado para o assunto : um __data warehouse__ usa um tema e fornece informações sobre um assunto específico em vez das operações atuais de uma empresa.\n",
        "\n",
        "  Em outras palavras, o processo de armazenamento de dados está mais equipado para lidar com um tema específico, como por exemplo: _vendas_, _distribuições_, _marketing_ etc.\n",
        "\n",
        "* __Integrado__ : a integração é definida como o estabelecimento de uma conexão entre uma grande quantidade de dados de vários bancos de dados ou fontes.\n",
        "\n",
        "  No entanto, também é essencial que os dados sejam armazenados no __data warehouse__ de forma unificada.\n",
        "\n",
        "  O processo de armazenamento de dados integra dados de várias fontes, como mainframes, bancos de dados relacionais, arquivos simples como _csv_ ou _xlsx_.\n",
        "\n",
        "  Além do exposto acima, ajuda a manter códigos consistentes, medidas de atributos, convenções de nomenclatura e formatos.\n",
        "\n",
        "* __Tempo variável__ : a variante de tempo em um __DW__ é mais extensa em comparação com outros sistemas operacionais.\n",
        "\n",
        "  Os dados armazenados em um __data warehouse__ são recuperados com um período de tempo específico e fornecem informações de uma perspectiva histórica.\n",
        "\n",
        "* __Não volátil__ : no __data warehouse__ não volátil, os dados são permanentes, ou seja, quando novos dados são inseridos, os dados anteriores não são substituídos, omitidos ou excluídos.\n",
        "\n",
        "  Neste __data warehouse__, os dados são somente leitura e são atualizados apenas em determinados intervalos \n",
        "\n",
        "  As duas operações de dados realizadas no __data warehouse__ são o acesso aos dados e o carregamento dos dados.\n",
        "\n",
        "![Características do Data Warehouse](https://media.geeksforgeeks.org/wp-content/uploads/Untitled-drawing-9-1.png)"
      ],
      "metadata": {
        "id": "IzkZ83I9Uvn2"
      }
    },
    {
      "cell_type": "markdown",
      "source": [
        "## Funções de um Data Warehouse"
      ],
      "metadata": {
        "id": "USkC3ufLTmxX"
      }
    },
    {
      "cell_type": "markdown",
      "source": [
        "O __data warehouse__ funciona como um repositório. Ajuda as organizações/empresas a evitar o custo de sistemas de armazenamento e dados de backup em nível corporativo.\n",
        "\n",
        "As funções proeminentes de um __data warehouse__ são:\n",
        "\n",
        "* Limpeza de dados\n",
        "* Integração de dados\n",
        "* Mapeamento de dados\n",
        "* Extração de dados\n",
        "* Limpeza de dados\n",
        "* Transformação de dados\n",
        "* Carregamento de dados "
      ],
      "metadata": {
        "id": "e0cPhAcvV-Na"
      }
    },
    {
      "cell_type": "markdown",
      "source": [
        "## Normalização e Abordagem de desnormalização"
      ],
      "metadata": {
        "id": "TqZOLoqgXQTw"
      }
    },
    {
      "cell_type": "markdown",
      "source": [
        "A normalização é definida como uma forma de reorganização dos dados.\n",
        "\n",
        "Isso ajuda a atender a dois requisitos principais em um __data warehouse__ corporativo, ou seja, eliminar a redundância de dados e proteger a dependência de dados.\n",
        "\n",
        "Por outro lado, a desnormalização aumenta a funcionalidade da infraestrutura do sistema de banco de dados"
      ],
      "metadata": {
        "id": "Rk7AgtIeXQ3x"
      }
    },
    {
      "cell_type": "markdown",
      "source": [
        "## Data Warehouse e Banco de Dados"
      ],
      "metadata": {
        "id": "5k5bz_hOYB9o"
      }
    },
    {
      "cell_type": "markdown",
      "source": [
        "As principais diferenças entre data warehouse e banco de dados, de forma resumida, são:\n",
        "\n",
        "|Banco de Dados|Data Warehouse|\n",
        "|---|---|\n",
        "|É um amálgama de dados relacionados|Serve como um sistema de informação que contém dados históricos e comutativos de uma ou várias fontes|\n",
        "|É usado para registras dados|É usado para analisar dados|\n",
        "|É uma coleção de dados orientada a aplicativos|É a coleção de dados orientada por assunto|\n",
        "|Usa OLTP (_Online Transactional Processing_)|Usa OLAP (_Online Analytical Processing_)|\n",
        "|As tabelas e junções do banco de dados são normalizadas, portanto, mais complicadas|As tabelas e junções do data warehouse são desnormalizada, portanto, mais simples|\n",
        "|Técnicas de modelagem ER são usadas para projetar|Técnicas de modelagem de dados são usadas para projetar|"
      ],
      "metadata": {
        "id": "Hs_Bp2KlYFV9"
      }
    },
    {
      "cell_type": "markdown",
      "source": [
        "## A metodologia Kimball"
      ],
      "metadata": {
        "id": "pwkKIgyicaEi"
      }
    },
    {
      "cell_type": "markdown",
      "source": [
        "Iniciado por _Ralph Kimball_, o modelo de dados __Kimball__ segue uma abordagem ascendente para __data warehouse__ projeto de arquitetura em que os _data marts_ são formados primeiro com base nos requisitos de negócios.\n",
        "\n",
        "As fontes de dados primárias são então avaliadas e uma ferramenta _Extract, Transform and Load_ (ETL) é usada para buscar dados de várias fontes e carregá-los em uma área de teste do servidor de banco de dados relacional.\n",
        "\n",
        "Depois que os dados são carregados na área de preparação do __data warehouse__, a próxima fase inclui o carregamento de dados em um modelo de __data warehouse__ dimensional que é desnormalizado por natureza.\n",
        "\n",
        "Esse modelo particiona os dados na tabela de fatos, que são os dados transacionais numéricos ou tabela de dimensões, que são as informações de referência que suportam fatos.\n",
        "\n",
        "O esquema em estrela é o elemento fundamental do modelo de __data warehouse__ dimensional. A combinação de uma tabela de fatos com várias tabelas dimensionais é frequentemente chamada de esquema em estrela.\n",
        "\n",
        "A modelagem dimensional __Kimball__ permite que os usuários construam vários esquemas em estrela para atender a várias necessidades de relatórios.\n",
        "\n",
        "A vantagem do esquema em estrela é que pequenas consultas de tabela dimensional são executadas instantaneamente.\n",
        "\n",
        "Para integrar os dados, a abordagem de __Kimball__ para o ciclo de vida do __Data Warehouse__ sugere a ideia de dimensões de dados conformados.\n",
        "\n",
        "Ela existe como uma tabela de dimensão básica compartilhada em diferentes tabelas de fatos (como cliente e produto) dentro de um __data warehouse__ ou como as mesmas tabelas de dimensão em vários _data marts_ __Kimball__.\n",
        "\n",
        "Isso garante que um único item de dados seja usado de maneira semelhante em todos os fatos.\n",
        "\n",
        "Uma importante ferramenta de design na metodologia de __data warehouse__ de Ralph Kimball é a matriz de barramento corporativo ou arquitetura de barramento __Kimball__ que registra verticalmente os fatos e horizontalmente registra as dimensões conformadas.\n",
        "\n",
        "A matriz __Kimball__, que faz parte da arquitetura do barramento, mostra como os esquemas em estrela são construídos.\n",
        "\n",
        "É usado por equipes de gerenciamento de negócios como uma entrada para priorizar qual linha da matriz __Kimball__ deve ser implementada primeiro.\n",
        "\n",
        "A abordagem __Kimball__ para o ciclo de vida do __data warehouse__ também é baseada em fatos conformados, ou seja, _data marts_ que são implementados separadamente junto com uma arquitetura robusta. \n",
        "\n",
        "![Arquitetura básica do Kimball Data Warehouse](https://www.zentut.com/wp-content/uploads/2012/10/Ralph-Kimball-Data-Warehouse-Architecture.gif)"
      ],
      "metadata": {
        "id": "KTuN6s2acyIo"
      }
    },
    {
      "cell_type": "markdown",
      "source": [
        "### Vantagens"
      ],
      "metadata": {
        "id": "mqGOI--LmQQg"
      }
    },
    {
      "cell_type": "markdown",
      "source": [
        "Alguns dos principais benefícios do __Kimball__ Data Warehousing Concept incluem:\n",
        "\n",
        "* A modelagem dimensional __Kimball__ é rápida de construir, pois não envolve normalização, o que significa execução rápida da fase inicial do armazenamento de dados e processo de design\n",
        "\n",
        "* Uma vantagem do esquema em estrela é que a maioria dos operadores de dados pode facilmente compreendê-los por causa de sua estrutura desnormalizada, o que simplifica a consulta e a análise\n",
        "\n",
        "* A pegada do sistema de __data warehouse__ é trivial porque se concentra em áreas e processos de negócios individuais, em vez de em toda a empresa. Assim, ocupa menos espaço no banco de dados, simplificando o gerenciamento do sistema\n",
        "\n",
        "* Ele permite a recuperação rápida de dados do __data warehouse__, pois os dados são segregados em tabelas de fatos e dimensões. Por exemplo, a tabela de fatos e dimensões para o setor de seguros inclui transações de apólices e transações de sinistros\n",
        "\n",
        "* Uma equipe menor de designers e planejadores é suficiente para o gerenciamento do __data warehouse__ porque os sistemas de fonte de dados são estáveis e o __data warehouse__ é orientado ao processo. Além disso, a otimização da consulta é direta, previsível e controlável\n",
        "\n",
        "* Estrutura dimensional conformada para framework de qualidade de dados. A abordagem __Kimball__ para o ciclo de vida do __data warehouse__ também é chamada de abordagem de estilo de vida dimensional de negócios porque permite que as ferramentas de inteligência de negócios se aprofundem em vários esquemas em estrela e gerem insights confiáveis\n",
        "\n",
        "![Abordagem Kimball para o ciclo de vida do data warehouse](http://www.kimballgroup.com/wp-content/uploads/2012/06/kimball-core-concepts-021.png)"
      ],
      "metadata": {
        "id": "COI5kw3GmU1l"
      }
    },
    {
      "cell_type": "markdown",
      "source": [
        "### Desvantagens"
      ],
      "metadata": {
        "id": "9wLGMqxHqS0Y"
      }
    },
    {
      "cell_type": "markdown",
      "source": [
        "Algumas das desvantagens do conceito de design __Kimball__ Data Warehousing incluem:\n",
        "\n",
        "* Os dados não são totalmente integrados antes do relatório; a ideia de uma \"_única fonte de verdade está perdida_\"\n",
        "\n",
        "* Irregularidades podem ocorrer quando os dados são atualizados na arquitetura __Kimball__ DW. Isso ocorre porque na técnica de desnormalização, dados redundantes são adicionados às tabelas do banco de dados\n",
        "\n",
        "* Na arquitetura __Kimball__ DW, podem ocorrer problemas de desempenho devido à adição de colunas na tabela de fatos, pois essas tabelas são bastante detalhadas. A adição de novas colunas pode expandir as dimensões da tabela de fatos, afetando seu desempenho. Além disso, o modelo de __data warehouse__ dimensional torna-se difícil de alterar com qualquer mudança nas necessidades de negócios\n",
        "\n",
        "* Como o modelo __Kimball__ é orientado para os processos de negócios, em vez de focar na empresa como um todo, ele não pode lidar com todos os requisitos de relatórios de BI\n",
        "\n",
        "* O processo de incorporação de grandes quantidades de dados legados no __data warehouse__ é complexo"
      ],
      "metadata": {
        "id": "x9WOjJbuqUWo"
      }
    },
    {
      "cell_type": "markdown",
      "source": [
        "## A metodologia Inmon"
      ],
      "metadata": {
        "id": "171d_K_5tGzu"
      }
    },
    {
      "cell_type": "markdown",
      "source": [
        "Bill Inmon, o pai do __data warehusing__, surgiu com o conceito de desenvolver um data warehouse que identifica as principais áreas de assunto e entidades com as quais a empresa trabalha, como clientes, produtos, fornecedores e assim por diante.\n",
        "\n",
        "A definição de Bill Inmon de um __data warehouse__ é que é uma \"_coleção de dados orientada por assunto, não volátil, integrada e variante no tempo para apoiar as decisões da administração_\".\n",
        "\n",
        "O modelo então cria um modelo lógico completo para cada entidade primária. Por exemplo, um modelo lógico é construído para produtos com todos os atributos associados a essa entidade. \n",
        "\n",
        "Esse modelo lógico pode incluir dez entidades diversas sob o produto, incluindo todos os detalhes, como motivadores de negócios, aspectos, relacionamentos, dependências e afiliações.\n",
        "\n",
        "A vida da _Abordagem de design de Bill Inmon_ usa a forma normalizada para construir a estrutura da entidade, evitando ao máximo a redundância de dados.\n",
        "\n",
        "Isso resulta na identificação clara dos requisitos de negócios e na prevenção de quaisquer irregularidades na atualização dos dados. Além disso, a vantagem dessa abordagem de cima para baixo no design do banco de dados é que ela é robusta para mudanças de negócios e contém uma perspectiva dimensional de dados em _data mart_.\n",
        "\n",
        "Em seguida, é construído o modelo físico, que segue a estrutura normalizada. Este modelo de Bill Inmon cria uma única fonte de verdade para todo o negócio.\n",
        "\n",
        "O carregamento de dados torna-se menos complexo devido à estrutura normalizada do modelo.\n",
        "\n",
        "No entanto, usar esse arranjo para consulta é desafiador, pois inclui várias tabelas e links.\n",
        "\n",
        "Essa metodologia de __data warehouse__ do Inmon propõe a construção de _data marts_ separadamente para cada divisão, como finanças, vendas de marketing etc.\n",
        "\n",
        "Todos os dados que entram no __data warehouse__ são integrados. O __data warehouse__ atua como uma única fonte de dados para vários _data marts_ para garantir integridade e consistência em toda a empresa.\n",
        "\n",
        "![Arquitetura básica de armazenamento de dados Bill Inmon](https://i.pinimg.com/736x/32/50/c8/3250c87544aedb01f565bfe7710377f1.jpg)"
      ],
      "metadata": {
        "id": "ATE3EKa3tKjg"
      }
    },
    {
      "cell_type": "markdown",
      "source": [
        "### Vantagens"
      ],
      "metadata": {
        "id": "J6kDc3KHyibQ"
      }
    },
    {
      "cell_type": "markdown",
      "source": [
        "A abordagem de design Bill Inmon oferece os seguintes benefícios:\n",
        "\n",
        "* O __data warehouse__ atua como uma fonte unificada de verdade para todo o negócio, onde todos os dados são integrados\n",
        "\n",
        "* Essa abordagem tem redundância de dados muito baixa. Assim, há menos possibilidade de irregularidades na atualização de dados, tornando o processo de __data warehouse__ baseado no conceito ETL mais direto e menos suscetível a falhas\n",
        "\n",
        "* Ele simplifica os processos de negócios, pois o modelo lógico representa objetos de negócios detalhados\n",
        "\n",
        "* Essa abordagem oferece maior flexibilidade, pois é mais fácil atualizar o __data warehouse__ caso haja alguma mudança nos requisitos de negócios ou nos dados de origem\n",
        "\n",
        "* Ele pode lidar com diversos requisitos de relatórios em toda a empresa"
      ],
      "metadata": {
        "id": "WlHskl50yj5q"
      }
    },
    {
      "cell_type": "markdown",
      "source": [
        "### Desvantagens"
      ],
      "metadata": {
        "id": "TuLjOIW82XYT"
      }
    },
    {
      "cell_type": "markdown",
      "source": [
        "As possíveis desvantagens desta abordagem são as seguintes:\n",
        "\n",
        "* A complexidade aumenta à medida que várias tabelas são adicionadas ao modelo de dados com o tempo\n",
        "\n",
        "* Recursos qualificados em modelagem de dados de __data warehouse__ são necessários, o que pode ser caro e difícil de encontrar\n",
        "\n",
        "* A instalação e a entrega preliminares são demoradas\n",
        "\n",
        "* A operação adicional do processo de ETL é necessária, pois os _data marts_ são criados após a criação do __data warehouse__\n",
        "\n",
        "* Essa abordagem requer especialistas para gerenciar um __data warehouse__ de forma eficaz"
      ],
      "metadata": {
        "id": "OphkZQCO2Z4E"
      }
    },
    {
      "cell_type": "markdown",
      "source": [
        "## Qual abordagem de data warehouse escolher?"
      ],
      "metadata": {
        "id": "xGFzK2qz5PQg"
      }
    },
    {
      "cell_type": "markdown",
      "source": [
        "Ambas as abordagens consideram __data warehouse__ como um repositório central que suporta relatórios de negócios.\n",
        "\n",
        "Além disso, ambos os tipos de abordagens usam conceitos de ETL para carregamento de dados. No entanto, a principal diferença está _em modelar dados e carregá-los no __data warehouse___.\n",
        "\n",
        "A abordagem usada na construção do __data warehouse__ influencia o tempo de entrega preliminar do projeto de armazenamento e a capacidade de suportar variações prospectivas no design do ETL.\n",
        "\n",
        "Abaixo estão alguns aspectos que pode ajudar a decidir qual abordagem adotar:\n",
        "\n",
        "* __Necessidades de relatório__ : se você precisar de relatórios integrados e em toda a organização, a abordagem de Bill Inmon é mais adequada.\n",
        "  \n",
        "  Mas se você precisar de relatórios focados no processo de negócios ou na equipe, opte pelo método __Kimball__\n",
        "\n",
        "* __Prazo final do projeto__ : projetar um modelo de dados normalizado é comparativamente mais complexo do que projetar um modelo desnormalizado. \n",
        "\n",
        "  Isso torna a abordagem do Inmon um processo demorado. Portanto, se você tiver menos tempo para entrega, opte pelo método __Kimball__\n",
        "\n",
        "* Plano de recrutamento prospectivo__ : a maior complexidade da criação do modelo de dados na abordagem de __data warehouse__ do Inmon requer uma equipe maior de profissionais para o gerenciamento de __data warehouse__. Portanto, escolha de acordo\n",
        "\n",
        "* __Mudanças frequentes__ : se suas necessidades de relatórios provavelmente mudarem mais rapidamente e você estiver lidando com sistemas de origem volátil, opte pelo método Inmon, pois ele oferece mais flexibilidade.\n",
        "\n",
        "  No entanto, se as necessidades de relatórios e os sistemas de origem forem comparativamente estáveis, é melhor usar o método __Kimball__\n",
        "\n",
        "* __Princípios organizacionais__ : se as partes interessadas e os diretores corporativos de sua organização reconhecem a necessidade de armazenamento de dados e estão prontos para arcar com as despesas, o método de armazenamento de dados Bill Inmon seria uma aposta mais segura.\n",
        "\n",
        "  Por outro lado, se os tomadores de decisão não estiverem preocupados com os detalhes da abordagem e estiverem apenas procurando uma solução para melhorar os relatórios, basta optar pelo método de __data warehouse__ de __Kimball__"
      ],
      "metadata": {
        "id": "PJQE35dU5UWb"
      }
    },
    {
      "cell_type": "code",
      "source": [],
      "metadata": {
        "id": "YMQmvHbtQY2S"
      },
      "execution_count": null,
      "outputs": []
    },
    {
      "cell_type": "markdown",
      "source": [
        "## Fontes"
      ],
      "metadata": {
        "id": "uqcGGLASqEo2"
      }
    },
    {
      "cell_type": "markdown",
      "source": [
        "* [Grupo Kimball](https://www.kimballgroup.com/)\n",
        "\n",
        "* [Inmon](http://www.inmoncif.com)"
      ],
      "metadata": {
        "id": "RUtxdKEvqIQb"
      }
    }
  ]
}